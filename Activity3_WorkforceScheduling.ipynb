{
 "cells": [
  {
   "cell_type": "markdown",
   "metadata": {},
   "source": [
    "# Workforce Scheduling Problem Part 1"
   ]
  },
  {
   "cell_type": "markdown",
   "metadata": {},
   "source": [
    "## Problem Definition"
   ]
  },
  {
   "cell_type": "markdown",
   "metadata": {},
   "source": [
    "Consider a service business, like a restaurant, that develops its workforce plans for the next two weeks (considering a 7-day week). The service requires only one set of skills. There are a number of employed workers with the same set of skills and with identical productivity that are available to work on some of the days during the two-week planning horizon. There is only one shift per workday. Each shift may have different resource (worker) requirements on each workday."
   ]
  },
  {
   "attachments": {},
   "cell_type": "markdown",
   "metadata": {},
   "source": [
    "## Mathematical Modelling\n"
   ]
  },
  {
   "cell_type": "markdown",
   "metadata": {},
   "source": [
    "**ToDo:** Use a GenAI tool (or pen and paper) to create a mathematical model for the stated workforce scheduling problem. Verify its correctness and discuss with a partner. Make the model data independent, so that it can work for varying shift requirements and varying worker abilities. We will import the exact requirements and abilities from a data file later.\n",
    "\n",
    "\n",
    "Make sure to clearly define:\n",
    "- Sets\n",
    "- Parameters\n",
    "- Decision variables\n",
    "- Constraints\n",
    "- Objective Function\n",
    "\n",
    "\n",
    "**Tip:** You can ask the Gen AI tool to create the model using *Markdown* and *Latex for Jupyter Notebooks*. Then you can copy and paste the output in the cell below and (when executed) the cell will render the mathematical notation nicely. "
   ]
  },
  {
   "cell_type": "markdown",
   "metadata": {},
   "source": [
    "Copy and paste your model in this cell."
   ]
  },
  {
   "cell_type": "markdown",
   "metadata": {},
   "source": [
    "#### Solution"
   ]
  },
  {
   "cell_type": "markdown",
   "metadata": {},
   "source": [
    "**Prompt:**\n"
   ]
  },
  {
   "cell_type": "markdown",
   "metadata": {},
   "source": []
  },
  {
   "cell_type": "markdown",
   "metadata": {},
   "source": [
    "**(Cleaned) response:**"
   ]
  },
  {
   "cell_type": "markdown",
   "metadata": {},
   "source": []
  },
  {
   "cell_type": "markdown",
   "metadata": {},
   "source": [
    "## Model Implementation"
   ]
  },
  {
   "cell_type": "markdown",
   "metadata": {},
   "source": [
    "We now import the Gurobi Python Module. Then, we import the data structures with the given data."
   ]
  },
  {
   "cell_type": "code",
   "execution_count": 15,
   "metadata": {},
   "outputs": [],
   "source": [
    "# This command imports the Gurobi functions and classes.\n",
    "\n",
    "import gurobipy as gp\n",
    "from gurobipy import GRB\n",
    "\n",
    "\n",
    "import pandas as pd\n",
    "from pylab import *\n",
    "import matplotlib\n",
    "import matplotlib.pyplot as plt"
   ]
  },
  {
   "cell_type": "markdown",
   "metadata": {},
   "source": [
    "### Input Data"
   ]
  },
  {
   "cell_type": "markdown",
   "metadata": {},
   "source": [
    "We define all the input data of the model."
   ]
  },
  {
   "cell_type": "markdown",
   "metadata": {},
   "source": [
    "**ToDo:**\n",
    "1. Examine Your Model\n",
    "    - What variables and parameters does your optimization model need?\n",
    "    - What data is required to populate them?\n",
    "2. Check or Create Your Data File ```data/WorkforceScheduling_Part1.xlsx```\n",
    "    - Use a real dataset if you don’t have privacy concerns\n",
    "    - Or create a dummy file that matches the expected structure (i.e., replace the actual data with fake entries, but keep the structure)\n",
    "3. Prompt GenAI to Write Import Code\n",
    "    - Upload the data file to GenAI model\n",
    "    - Ask for code to read and extract the relevant data\n",
    "    - Run the code and inspect the results"
   ]
  },
  {
   "cell_type": "markdown",
   "metadata": {},
   "source": [
    "**Don’t assume GenAI gets it right the first time.**\n",
    "\n",
    "Check:\n",
    "- Are the right columns being read?\n",
    "- Is the data being interpreted correctly?\n",
    "- Are types (e.g., int, float, str) handled properly?\n"
   ]
  },
  {
   "cell_type": "code",
   "execution_count": null,
   "metadata": {},
   "outputs": [],
   "source": []
  },
  {
   "cell_type": "markdown",
   "metadata": {},
   "source": [
    "### Model"
   ]
  },
  {
   "cell_type": "markdown",
   "metadata": {},
   "source": [
    "**ToDo:** \n",
    "\n",
    "Use the mathematical model you created and the above inputs to create the python code.\n",
    "\n",
    "**Tip:**\n",
    "\n",
    "You need to include the names of the input parameter variables as well as descriptions of their strcuture:\n",
    "Here is a list of the input data variables\n",
    "- shifts: A list of all the shifts\n",
    "- shiftRequirements: A dictionary of how many workers are required for each shift\n",
    "- workers: A list of all workers\n",
    "- pay: A dictionary of how much each worker is payed per day\n",
    "- availability: A tuple list each entry contains a worker and a shift for which they are available."
   ]
  },
  {
   "cell_type": "code",
   "execution_count": 34,
   "metadata": {},
   "outputs": [],
   "source": [
    "## Copy and paste your model in this cell."
   ]
  },
  {
   "cell_type": "markdown",
   "metadata": {},
   "source": [
    "## Model Solving"
   ]
  },
  {
   "cell_type": "markdown",
   "metadata": {},
   "source": [
    "**ToDo:** Copy the code to optimize the model and print the results below."
   ]
  },
  {
   "cell_type": "code",
   "execution_count": 42,
   "metadata": {},
   "outputs": [],
   "source": [
    "#Copy the code here"
   ]
  },
  {
   "cell_type": "markdown",
   "metadata": {},
   "source": [
    "## Exporting the results to Excel"
   ]
  },
  {
   "cell_type": "markdown",
   "metadata": {},
   "source": [
    "The below code will export your solution to an Excel file"
   ]
  },
  {
   "cell_type": "code",
   "execution_count": 48,
   "metadata": {},
   "outputs": [],
   "source": [
    "# Initialize DataFrame with empty values\n",
    "schedule = pd.DataFrame(index=workers, columns=shifts)\n",
    "schedule[:] = \"\"  # Fill with empty strings\n",
    "\n",
    "# Fill in the assigned shifts\n",
    "if model.status == GRB.OPTIMAL:\n",
    "    for (w, s) in availability:\n",
    "        if x[w, s].x > 0.5:\n",
    "            schedule.at[w, s] = \"X\"\n",
    "\n",
    "# Export to Excel\n",
    "schedule.to_excel(\"schedule.xlsx\", sheet_name=\"Schedule\")"
   ]
  },
  {
   "cell_type": "markdown",
   "metadata": {},
   "source": [
    "## Solution Analysis"
   ]
  },
  {
   "cell_type": "markdown",
   "metadata": {},
   "source": [
    "**ToDo:** Comment on the solution."
   ]
  },
  {
   "cell_type": "markdown",
   "metadata": {},
   "source": [
    "Put your comment here."
   ]
  },
  {
   "cell_type": "code",
   "execution_count": null,
   "metadata": {},
   "outputs": [],
   "source": []
  }
 ],
 "metadata": {
  "kernelspec": {
   "display_name": "Python 3 (ipykernel)",
   "language": "python",
   "name": "python3"
  },
  "language_info": {
   "codemirror_mode": {
    "name": "ipython",
    "version": 3
   },
   "file_extension": ".py",
   "mimetype": "text/x-python",
   "name": "python",
   "nbconvert_exporter": "python",
   "pygments_lexer": "ipython3",
   "version": "3.12.4"
  }
 },
 "nbformat": 4,
 "nbformat_minor": 4
}
