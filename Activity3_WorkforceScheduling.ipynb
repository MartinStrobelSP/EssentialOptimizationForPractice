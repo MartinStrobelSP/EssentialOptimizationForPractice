{
  "cells": [
    {
      "cell_type": "markdown",
      "source": [
        "[![Open In Colab](https://colab.research.google.com/assets/colab-badge.svg)](https://colab.research.google.com/github/MartinStrobelSP/EssentialOptimizationForPractice/blob/main/Activity3_WorkforceScheduling.ipynb)"
      ],
      "metadata": {
        "id": "2BQ0fvasgk8z"
      }
    },
    {
      "cell_type": "markdown",
      "metadata": {
        "id": "2JtRtSY1f_Kt"
      },
      "source": [
        "# Application Problem 3 - Workforce Scheduling"
      ]
    },
    {
      "cell_type": "markdown",
      "metadata": {
        "id": "H1crwVbzf_Kv"
      },
      "source": [
        "## Problem Definition"
      ]
    },
    {
      "cell_type": "markdown",
      "metadata": {
        "id": "lpFFRiNlf_Kv"
      },
      "source": [
        "Consider a service business, like a restaurant, that develops its workforce plans for the next two weeks (considering a 7-day week). The service requires only one set of skills. There are a number of employed workers with the same set of skills and with identical productivity that are available to work on some of the days during the two-week planning horizon. There is only one shift per workday. Each shift may have different resource (worker) requirements on each workday."
      ]
    },
    {
      "cell_type": "markdown",
      "metadata": {
        "id": "s_nIHTBEf_Kw"
      },
      "source": [
        "## Mathematical Modelling\n"
      ]
    },
    {
      "cell_type": "markdown",
      "metadata": {
        "id": "Lq8xZkUPf_Kw"
      },
      "source": [
        "**ToDo:** Use a GenAI tool (or pen and paper) to create a mathematical model for the stated workforce scheduling problem. Verify its correctness and discuss with a partner. Make the model data independent, so that it can work for varying shift requirements and varying worker abilities. We will import the exact requirements and abilities from a data file later.\n",
        "\n",
        "\n",
        "Make sure to clearly define:\n",
        "- Sets\n",
        "- Parameters\n",
        "- Decision variables\n",
        "- Constraints\n",
        "- Objective Function\n",
        "\n",
        "\n",
        "**Tip:** You can ask the Gen AI tool to create the model using *Markdown* and *Latex for Jupyter Notebooks*. Then you can copy and paste the output in the cell below and (when executed) the cell will render the mathematical notation nicely."
      ]
    },
    {
      "cell_type": "markdown",
      "metadata": {
        "id": "45KJAQdYf_Kw"
      },
      "source": [
        "Copy and paste your model in this cell."
      ]
    },
    {
      "cell_type": "markdown",
      "metadata": {
        "id": "g2B4c_Khf_Kx"
      },
      "source": [
        "#### Solution"
      ]
    },
    {
      "cell_type": "markdown",
      "metadata": {
        "id": "1euu1yULf_Kx"
      },
      "source": [
        "**Prompt:**\n"
      ]
    },
    {
      "cell_type": "markdown",
      "metadata": {
        "id": "Qw5cKwdCf_Kx"
      },
      "source": []
    },
    {
      "cell_type": "markdown",
      "metadata": {
        "id": "zoI47a0lf_Kx"
      },
      "source": [
        "**(Cleaned) response:**"
      ]
    },
    {
      "cell_type": "markdown",
      "metadata": {
        "id": "uTL7R17Cf_Kx"
      },
      "source": []
    },
    {
      "cell_type": "markdown",
      "metadata": {
        "id": "jsJ3BAAzf_Kx"
      },
      "source": [
        "## Model Implementation"
      ]
    },
    {
      "cell_type": "markdown",
      "metadata": {
        "id": "kw0NsmbAf_Kx"
      },
      "source": [
        "We now import the Gurobi Python Module. Then, we import the data structures with the given data."
      ]
    },
    {
      "cell_type": "code",
      "source": [
        "!pip install gurobipy"
      ],
      "metadata": {
        "id": "484yNRh5gFYj"
      },
      "execution_count": null,
      "outputs": []
    },
    {
      "cell_type": "code",
      "execution_count": null,
      "metadata": {
        "id": "u9_KYbfzf_Kx"
      },
      "outputs": [],
      "source": [
        "# This command imports the Gurobi functions and classes.\n",
        "\n",
        "import gurobipy as gp\n",
        "from gurobipy import GRB\n",
        "\n",
        "\n",
        "import pandas as pd\n",
        "from pylab import *\n",
        "import matplotlib\n",
        "import matplotlib.pyplot as plt"
      ]
    },
    {
      "cell_type": "markdown",
      "metadata": {
        "id": "hzV5m3VTf_Ky"
      },
      "source": [
        "### Input Data"
      ]
    },
    {
      "cell_type": "markdown",
      "source": [
        "First let's upload our data. ```WorkforceScheduling.xlsx```"
      ],
      "metadata": {
        "id": "djLCJ7SXgTGw"
      }
    },
    {
      "cell_type": "code",
      "source": [
        "from google.colab import files\n",
        "uploaded = files.upload()"
      ],
      "metadata": {
        "id": "dsptPNSAgQX7"
      },
      "execution_count": null,
      "outputs": []
    },
    {
      "cell_type": "markdown",
      "metadata": {
        "id": "oAFz-BSdf_Ky"
      },
      "source": [
        "We define all the input data of the model."
      ]
    },
    {
      "cell_type": "markdown",
      "metadata": {
        "id": "HdqMHcISf_Ky"
      },
      "source": [
        "**ToDo:**\n",
        "1. Examine Your Model\n",
        "    - What variables and parameters does your optimization model need?\n",
        "    - What data is required to populate them?\n",
        "2. Check or Create Your Data File ```WorkforceScheduling.xlsx```\n",
        "    - Use a real dataset if you don’t have privacy concerns\n",
        "    - Or create a dummy file that matches the expected structure (i.e., replace the actual data with fake entries, but keep the structure)\n",
        "3. Prompt GenAI to Write Import Code\n",
        "    - Upload the data file to GenAI model\n",
        "    - Ask for code to read and extract the relevant data\n",
        "    - Run the code and inspect the results"
      ]
    },
    {
      "cell_type": "markdown",
      "metadata": {
        "id": "OfveKFYHf_Kz"
      },
      "source": [
        "**Don’t assume GenAI gets it right the first time.**\n",
        "\n",
        "Check:\n",
        "- Are the right columns being read?\n",
        "- Is the data being interpreted correctly?\n",
        "- Are types (e.g., int, float, str) handled properly?\n"
      ]
    },
    {
      "cell_type": "code",
      "execution_count": null,
      "metadata": {
        "id": "Bv5sUdDtf_Kz"
      },
      "outputs": [],
      "source": []
    },
    {
      "cell_type": "markdown",
      "metadata": {
        "id": "WRKzsBfCf_Kz"
      },
      "source": [
        "### Model"
      ]
    },
    {
      "cell_type": "markdown",
      "metadata": {
        "id": "cc1fAIiMf_Kz"
      },
      "source": [
        "**ToDo:**\n",
        "\n",
        "Use the mathematical model you created and the above inputs to create the python code.\n",
        "\n",
        "**Tip:**\n",
        "\n",
        "You need to include the names of the input parameter variables as well as descriptions of their strcuture:\n",
        "Here is a list of the input data variables\n",
        "- shifts: A list of all the shifts\n",
        "- shiftRequirements: A dictionary of how many workers are required for each shift\n",
        "- workers: A list of all workers\n",
        "- pay: A dictionary of how much each worker is payed per day\n",
        "- availability: A tuple list each entry contains a worker and a shift for which they are available."
      ]
    },
    {
      "cell_type": "code",
      "execution_count": null,
      "metadata": {
        "id": "yI3Ki3-Af_Kz"
      },
      "outputs": [],
      "source": [
        "## Copy and paste your model in this cell."
      ]
    },
    {
      "cell_type": "markdown",
      "metadata": {
        "id": "UIDgOPShf_Kz"
      },
      "source": [
        "## Model Solving"
      ]
    },
    {
      "cell_type": "markdown",
      "metadata": {
        "id": "uJ6Wi5nkf_Kz"
      },
      "source": [
        "**ToDo:** Copy the code to optimize the model and print the results below."
      ]
    },
    {
      "cell_type": "code",
      "execution_count": null,
      "metadata": {
        "id": "UYGwOobKf_Kz"
      },
      "outputs": [],
      "source": [
        "#Copy the code here"
      ]
    },
    {
      "cell_type": "markdown",
      "metadata": {
        "id": "MKecYe-7f_Kz"
      },
      "source": [
        "## Exporting the results to Excel"
      ]
    },
    {
      "cell_type": "markdown",
      "metadata": {
        "id": "mqIPMdqKf_Kz"
      },
      "source": [
        "The below code will export your solution to an Excel file"
      ]
    },
    {
      "cell_type": "code",
      "execution_count": null,
      "metadata": {
        "id": "v4Ax6-lwf_Kz"
      },
      "outputs": [],
      "source": [
        "# Initialize DataFrame with empty values\n",
        "schedule = pd.DataFrame(index=workers, columns=shifts)\n",
        "schedule[:] = \"\"  # Fill with empty strings\n",
        "\n",
        "# Fill in the assigned shifts\n",
        "if model.status == GRB.OPTIMAL:\n",
        "    for (w, s) in availability:\n",
        "        if x[w, s].x > 0.5:\n",
        "            schedule.at[w, s] = \"X\"\n",
        "\n",
        "# Export to Excel\n",
        "schedule.to_excel(\"schedule.xlsx\", sheet_name=\"Schedule\")"
      ]
    },
    {
      "cell_type": "markdown",
      "metadata": {
        "id": "X2BEMeUOf_Kz"
      },
      "source": [
        "## Solution Analysis"
      ]
    },
    {
      "cell_type": "markdown",
      "metadata": {
        "id": "OkxqDMIhf_Kz"
      },
      "source": [
        "**ToDo:** Comment on the solution."
      ]
    },
    {
      "cell_type": "markdown",
      "metadata": {
        "id": "S_PzXdE4f_Kz"
      },
      "source": [
        "Put your comment here."
      ]
    },
    {
      "cell_type": "code",
      "execution_count": null,
      "metadata": {
        "id": "l6WMR8c_f_Kz"
      },
      "outputs": [],
      "source": []
    }
  ],
  "metadata": {
    "kernelspec": {
      "display_name": "Python 3 (ipykernel)",
      "language": "python",
      "name": "python3"
    },
    "language_info": {
      "codemirror_mode": {
        "name": "ipython",
        "version": 3
      },
      "file_extension": ".py",
      "mimetype": "text/x-python",
      "name": "python",
      "nbconvert_exporter": "python",
      "pygments_lexer": "ipython3",
      "version": "3.12.4"
    },
    "colab": {
      "provenance": []
    }
  },
  "nbformat": 4,
  "nbformat_minor": 0
}