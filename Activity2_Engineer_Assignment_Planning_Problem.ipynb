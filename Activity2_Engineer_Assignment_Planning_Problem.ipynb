{
  "cells": [
    {
      "cell_type": "markdown",
      "source": [
        "[![Open In Colab](https://colab.research.google.com/assets/colab-badge.svg)](https://colab.research.google.com/github/MartinStrobelSP/EssentialOptimizationForPractice/blob/main/Activity2_Engineer_Assignment_Planning_Problem.ipynb)"
      ],
      "metadata": {
        "id": "lGJ4oOodcE63"
      },
      "id": "lGJ4oOodcE63"
    },
    {
      "cell_type": "markdown",
      "id": "2910f364-b7e2-4774-a508-60d957a11f3f",
      "metadata": {
        "id": "2910f364-b7e2-4774-a508-60d957a11f3f"
      },
      "source": [
        "# Application Problem 2 - Engineer-Assignment Planning Problem"
      ]
    },
    {
      "cell_type": "markdown",
      "id": "5a77d698-a1da-4619-b1d7-1b6cc60989b1",
      "metadata": {
        "id": "5a77d698-a1da-4619-b1d7-1b6cc60989b1"
      },
      "source": [
        "### Overview"
      ]
    },
    {
      "cell_type": "markdown",
      "id": "4a6178c9-65d7-4178-8902-5ce55871f6a9",
      "metadata": {
        "id": "4a6178c9-65d7-4178-8902-5ce55871f6a9"
      },
      "source": [
        "- A project manager is overseeing a client's complex engineering project that involves completing several critical tasks.\n",
        "- The project manager is assigned a hired  team of engineers with varying individual expereince for the various taskss\n",
        "- Each task requires the group of engineers assigned to it, to have a minimum number of years of combined experience. .\n",
        "- The goal is to assign engineers to the tasks in such a way that all tasks are completed while simultaneously minimizing the total cost of the assignment.\n",
        "- Each engineer has a different cost associated with their time, and some engirs neemay have more relevant experience and thus might be better suited for certain tasks.\n",
        "- Each task must be fully completed, and an engineer can work on multiple tasks (though this might increase cost)..t).\n"
      ]
    },
    {
      "cell_type": "markdown",
      "id": "b0c382de-a5bb-4f93-bf10-0b4fa7d8e5e5",
      "metadata": {
        "id": "b0c382de-a5bb-4f93-bf10-0b4fa7d8e5e5"
      },
      "source": [
        "- There are 5 engineers in the team and 8 tasks to be carried out\n",
        "- $x_{i,j} \\in \\{0,1\\}$ where\n",
        "    - $i \\in \\{1,2,3,4,5\\}$ represents the set of possible engineers chosen for a task\n",
        "    - $j \\in \\{1,2,3,4,5,6,7,8\\}$ represents the set of possible tasks to be carried out\n",
        "- $x_{i,j}$ is this a binary variable indicating whether Engineer $i$ is assigned to task $j$ (1 if assigned, 0 if not)\n",
        "- $c_{i,j}$ represents the cost (per day) associated with assigning Engineer $i$ to task $j$"
      ]
    },
    {
      "cell_type": "markdown",
      "id": "69ea1ddc-6075-42e2-88ff-0c0dc61e62e5",
      "metadata": {
        "id": "69ea1ddc-6075-42e2-88ff-0c0dc61e62e5"
      },
      "source": [
        "#### Decision Variables and Parameters\n",
        "\n",
        "- $c_{i,j}$ : Cost associated with assigning Engineer $𝑖$ to task $𝑗$\n",
        "- $r_{i,j}$ Individual Experience g of Engineer $𝑖$ for task $𝑗$\n",
        "- Higher texperience ng the better the Enginvel is suited for the :job $i \\in \\{1,2,3,4,5\\}$, $j \\in \\{1,2,3,4,5,6,7,8\\}$\n",
        "- $𝑇_𝑗$: MiniCombined Experiencendex, for each task, governs the satisfaction of the task-related constraints\n"
      ]
    },
    {
      "cell_type": "markdown",
      "id": "fa94ac95-493d-41e1-b89d-91abe93bbcff",
      "metadata": {
        "id": "fa94ac95-493d-41e1-b89d-91abe93bbcff"
      },
      "source": [
        "#### Cost and Minimum Coverage Parameters\n",
        "\n",
        "**Cost associated with assigning Engineer $𝑖$ to task $𝑗$**\n",
        "\n",
        "| Engineer ($i$) | Task 1 | Task 2 | Task 3 | Task 4 | Task 5 | Task 6 | Task 7 | Task 8 |\n",
        "| --- |--- |--- |--- |--- |--- |--- |--- |--- |\n",
        "| 1 | 1100 | 1200 | 1000 | 1150 | 1250 | 1300 | 1050 | 1100 |\n",
        "| 2 | 1200 | 1100 | 1300 | 1000 | 1050 | 1250 | 1150 | 1000 |\n",
        "| 3 | 1000 | 1050 | 1150 | 1200 | 1300 | 1100 | 1000 | 1200 |\n",
        "| 4 | 1150 | 1000 | 1250 | 1300 | 1100 | 1050 | 1200 | 1300 |\n",
        "| 5 | 1300 | 1250 | 1100 | 1150 | 1000 | 1000 | 1250 | 1050 |\n",
        "\n",
        "**Minimum Combined Experience for task $𝑗$**\n",
        "\n",
        "| Task ($j$) | Minimum Combined Experience ($ T_j $)|\n",
        "| --- | --- |\n",
        "| 1 | 10 |\n",
        "| 2 | 12 |\n",
        "| 3 | 11 |\n",
        "| 4 | 9  |\n",
        "| 5 | 13 |\n",
        "| 6 | 10 |\n",
        "| 7 | 12 |\n",
        "| 8 | 11 |\n",
        "\n",
        "**Engineer's Experience for the Various Tasks**\n",
        "\n",
        "| Engineer ($i$) | Task 1 | Task 2 | Task 3 | Task 4 | Task 5 | Task 6 | Task 7 | Task 8 |\n",
        "| --- |--- |--- |--- |--- |--- |--- |--- |--- |\n",
        "| 1 | 8 | 5 | 9 | 7 | 6 | 4 | 8 | 7 |\n",
        "| 2 | 6 | 7 | 4 | 8 | 9 | 5 | 6 | 8 |\n",
        "| 3 | 9 | 8 | 7 | 6 | 5 | 7 | 9 | 6 |\n",
        "| 4 | 7 | 6 | 6 | 5 | 8 | 8 | 7 | 5 |\n",
        "| 5 | 5 | 6 | 8 | 7 | 9 | 9 | 6 | 8 |"
      ]
    },
    {
      "cell_type": "markdown",
      "id": "eeea7b8c-a8e4-490a-930d-34aecfeb49db",
      "metadata": {
        "id": "eeea7b8c-a8e4-490a-930d-34aecfeb49db"
      },
      "source": [
        "### 2-1 Activity: Formulate the Problem"
      ]
    },
    {
      "cell_type": "markdown",
      "id": "9c4677b6-2fab-4411-a5aa-16dfafb83c3c",
      "metadata": {
        "id": "9c4677b6-2fab-4411-a5aa-16dfafb83c3c"
      },
      "source": [
        "**ToDo:**\n",
        "\n",
        "Do the following tasks:\n",
        "- **Define** the decision variables and any constraint on them\n",
        "- **Formulate** the objective function\n",
        "- **Define** the constraints and fromulate them\n",
        "\n",
        "You can drag an image of your formulation in the cell below and execute the cell to save your formulation within this notebook."
      ]
    },
    {
      "cell_type": "markdown",
      "id": "8a857e2d-a638-4f4f-b02c-e4d0ccb423d3",
      "metadata": {
        "id": "8a857e2d-a638-4f4f-b02c-e4d0ccb423d3"
      },
      "source": []
    },
    {
      "cell_type": "markdown",
      "id": "e7403cee-be4a-400e-9232-7bd3268c2f45",
      "metadata": {
        "id": "e7403cee-be4a-400e-9232-7bd3268c2f45"
      },
      "source": [
        "### 2-2 Activity: Run the code"
      ]
    },
    {
      "cell_type": "markdown",
      "id": "8feac259-6cd0-4778-8bc5-de5eecddbbee",
      "metadata": {
        "id": "8feac259-6cd0-4778-8bc5-de5eecddbbee"
      },
      "source": [
        "Instead of keeping all tables separately, one can create a nested data structure, which is sometimes advantageous."
      ]
    },
    {
      "cell_type": "markdown",
      "id": "c2e04db7-0287-49f3-b324-15114d0d736c",
      "metadata": {
        "id": "c2e04db7-0287-49f3-b324-15114d0d736c"
      },
      "source": [
        "#### Nested Data Structure"
      ]
    },
    {
      "cell_type": "markdown",
      "id": "e098b2ab-0159-460b-9af0-8adf82504bce",
      "metadata": {
        "id": "e098b2ab-0159-460b-9af0-8adf82504bce"
      },
      "source": [
        "\n",
        "|Engineer | Task | Cost | Individual Experience | Minimum Combined Experience |  \n",
        "| --- | --- | --- | --- | --- |\n",
        " |Ronald Koeman | 1 | 1100 | 8 | 10 |  \n",
        " |Shukor Salleh | 1 | 1200 | 6 | 10 |  \n",
        " |Gu Guanming | 1 | 1000 | 9 | 10 |  \n",
        " |Pya Pong Peuon | 1 | 1150 | 7 | 10 |  \n",
        " |Ram Vishwa | 1 | 1300 | 5 | 10 |  \n",
        " |Ronald Koeman | 2 | 1200 | 8 | 12 |  \n",
        " |Shukor Salleh | 2 | 1100 | 6 | 12 |  \n",
        " |Gu Guanming | 2 | 1050 | 9 | 12 |  \n",
        " |Pya Pong Peuon | 2 | 1000 | 7 | 12 |  \n",
        " |Ram Vishwa | 2 | 1250 | 5 | 12 |  \n",
        " |Ronald Koeman | 3 | 1000 | 9 | 11 |  \n",
        " |Shukor Salleh | 3 | 1300 | 4 | 11 |  \n",
        " |Gu Guanming | 3 | 1150 | 7 | 11 |  \n",
        " |Pya Pong Peuon | 3 | 1250 | 6 | 11 |  \n",
        " |Ram Vishwa | 3 | 1100 | 8 | 11 |  \n",
        " |Ronald Koeman | 4 | 1150 | 7 | 9 |  \n",
        " |Shukor Salleh | 4 | 1000 | 8 | 9 |  \n",
        " |Gu Guanming | 4 | 1200 | 6 | 9 |  \n",
        " |Pya Pong Peuon | 4 | 1300 | 5 | 9 |  \n",
        " |Ram Vishwa | 4 | 1150 | 7 | 9 |  \n",
        " |Ronald Koeman | 5 | 1250 | 6 | 13 |  \n",
        " |Shukor Salleh | 5 | 1050 | 9 | 13 |  \n",
        " |Gu Guanming | 5 | 1300 | 5 | 13 |  \n",
        " |Pya Pong Peuon | 5 | 1100 | 8 | 13 |  \n",
        " |Ram Vishwa | 5 | 1000 | 9 | 13 |  \n",
        " |Ronald Koeman | 6 | 1300 | 4 | 10 |  \n",
        " |Shukor Salleh | 6 | 1250 | 5 | 10 |  \n",
        " |Gu Guanming | 6 | 1100 | 7 | 10 |  \n",
        " |Pya Pong Peuon | 6 | 1050 | 8 | 10 |  \n",
        " |Ram Vishwa | 6 | 1000 | 9 | 10 |  \n",
        " |Ronald Koeman | 7 | 1050 | 8 | 12 |  \n",
        " |Shukor Salleh | 7 | 1150 | 6 | 12 |  \n",
        " |Gu Guanming | 7 | 1000 | 9 | 12 |  \n",
        " |Pya Pong Peuon | 7 | 1200 | 7 | 12 |  \n",
        " |Ram Vishwa | 7 | 1250 | 6 | 12 |  \n",
        " |Ronald Koeman | 8 | 1100 | 7 | 11 |  \n",
        " |Shukor Salleh | 8 | 1000 | 8 | 11 |  \n",
        " |Gu Guanming | 8 | 1200 | 6 | 11 |  \n",
        " |Pya Pong Peuon | 8 | 1300 | 5 | 11 |  \n",
        " |Ram Vishwa | 8 | 1050 | 8 | 11 |  "
      ]
    },
    {
      "cell_type": "markdown",
      "id": "3027a63f-f067-48cd-8c62-1aedc37774a6",
      "metadata": {
        "id": "3027a63f-f067-48cd-8c62-1aedc37774a6"
      },
      "source": [
        "#### The code"
      ]
    },
    {
      "cell_type": "markdown",
      "id": "9f186872-153b-4c02-9889-622876cea61f",
      "metadata": {
        "id": "9f186872-153b-4c02-9889-622876cea61f"
      },
      "source": [
        "**1. Import the neccesary libaries.**"
      ]
    },
    {
      "cell_type": "code",
      "source": [
        "!pip install gurobipy"
      ],
      "metadata": {
        "id": "FKoojm16b-xm"
      },
      "id": "FKoojm16b-xm",
      "execution_count": null,
      "outputs": []
    },
    {
      "cell_type": "code",
      "execution_count": null,
      "id": "15a45596-8731-476a-a73b-ef58a53c01aa",
      "metadata": {
        "id": "15a45596-8731-476a-a73b-ef58a53c01aa"
      },
      "outputs": [],
      "source": [
        "import gurobipy as gp\n",
        "from gurobipy import GRB\n",
        "import numpy as np\n",
        "import pandas as pd"
      ]
    },
    {
      "cell_type": "markdown",
      "id": "1e5d0d21-c13c-438f-8f2d-dc627d1be13d",
      "metadata": {
        "id": "1e5d0d21-c13c-438f-8f2d-dc627d1be13d"
      },
      "source": [
        "**2. Reading the excel nested data file, specifying presence of header rows**"
      ]
    },
    {
      "cell_type": "code",
      "source": [
        "from google.colab import files\n",
        "uploaded = files.upload()"
      ],
      "metadata": {
        "id": "ZT02wTNQcq98"
      },
      "id": "ZT02wTNQcq98",
      "execution_count": null,
      "outputs": []
    },
    {
      "cell_type": "code",
      "execution_count": null,
      "id": "5941129e-9853-46d8-9007-96e874e81ae4",
      "metadata": {
        "id": "5941129e-9853-46d8-9007-96e874e81ae4"
      },
      "outputs": [],
      "source": [
        "# Reading the Data\n",
        "data_file = \"Engineer_Assignment_Data.xlsx\"\n",
        "df = pd.read_excel(data_file, sheet_name='Nested_Data', header=0)"
      ]
    },
    {
      "cell_type": "markdown",
      "id": "47421043-80a4-44a4-a496-6c94642fe77d",
      "metadata": {
        "id": "47421043-80a4-44a4-a496-6c94642fe77d"
      },
      "source": [
        "**3. Extracting the unique names of Engineers and Tasks**"
      ]
    },
    {
      "cell_type": "code",
      "execution_count": null,
      "id": "cafbd2e9-4ceb-4068-a7f2-3d1ad77ab6c5",
      "metadata": {
        "id": "cafbd2e9-4ceb-4068-a7f2-3d1ad77ab6c5"
      },
      "outputs": [],
      "source": [
        "# Extracting the data\n",
        "engineers_names = df['Engineer'].unique().tolist()\n",
        "tasks_names = df['Task'].unique().tolist()\n",
        "# Create mappings for engineers and tasks\n",
        "engineer_mapping = {engineer: i for i, engineer in enumerate(engineers_names)}\n",
        "task_mapping = {task: j for j, task in enumerate(tasks_names)}"
      ]
    },
    {
      "cell_type": "markdown",
      "id": "e772fd11-148f-40ca-8750-d7daafbe6ad5",
      "metadata": {
        "id": "e772fd11-148f-40ca-8750-d7daafbe6ad5"
      },
      "source": [
        "**4. Preparing the Cost, Efficiency and Coverage matrices**"
      ]
    },
    {
      "cell_type": "code",
      "execution_count": null,
      "id": "c3f8cde5-bb72-4987-a0e7-3c3d26f86bff",
      "metadata": {
        "id": "c3f8cde5-bb72-4987-a0e7-3c3d26f86bff"
      },
      "outputs": [],
      "source": [
        "# Prepare the necessary data structures\n",
        "num_engineers = len(engineers_names)\n",
        "num_tasks = len(tasks_names)\n",
        "cost = np.zeros((num_engineers, num_tasks))\n",
        "individual_experience = np.zeros((num_engineers, num_tasks))\n",
        "minimum_combined_experience = np.zeros(num_tasks)"
      ]
    },
    {
      "cell_type": "markdown",
      "id": "1e58967c-5dc3-441b-992a-8b7dcbc62ce5",
      "metadata": {
        "id": "1e58967c-5dc3-441b-992a-8b7dcbc62ce5"
      },
      "source": [
        "**5. Populating the matrices with the data values read in**"
      ]
    },
    {
      "cell_type": "code",
      "execution_count": null,
      "id": "4d00eeb7-9a8f-43e9-8663-990a628e4aeb",
      "metadata": {
        "id": "4d00eeb7-9a8f-43e9-8663-990a628e4aeb"
      },
      "outputs": [],
      "source": [
        "for index, row in df.iterrows():\n",
        "    engineer_index = engineer_mapping[row['Engineer']]\n",
        "    task_index = task_mapping[row['Task']]\n",
        "    cost[engineer_index, task_index] = row['Cost']\n",
        "    individual_experience[engineer_index, task_index] = row['Individual Experience']\n",
        "    minimum_combined_experience[task_index] = row['Minimum Combined Experience']\n",
        "\n",
        "# Define engineers and tasks for model\n",
        "engineers = range(num_engineers)\n",
        "tasks = range(num_tasks)"
      ]
    },
    {
      "cell_type": "markdown",
      "id": "b35d3b08-153f-4ffe-b410-e4eb10aff2c0",
      "metadata": {
        "id": "b35d3b08-153f-4ffe-b410-e4eb10aff2c0"
      },
      "source": [
        "**6. Setting up and naming the model**"
      ]
    },
    {
      "cell_type": "code",
      "execution_count": null,
      "id": "8c99df49-1008-4d75-89e5-3d059e59ae70",
      "metadata": {
        "id": "8c99df49-1008-4d75-89e5-3d059e59ae70"
      },
      "outputs": [],
      "source": [
        "# Defining the Model\n",
        "model = gp.Model(\"Engineer_Assignment\")"
      ]
    },
    {
      "cell_type": "markdown",
      "id": "aead33d1-74d4-434b-9a28-39513d827006",
      "metadata": {
        "id": "aead33d1-74d4-434b-9a28-39513d827006"
      },
      "source": [
        "**7. Adding the decision variable values or engineer-task assignments to the model**"
      ]
    },
    {
      "cell_type": "code",
      "execution_count": null,
      "id": "4fa26021-157e-4b3e-a317-c092448bf7a8",
      "metadata": {
        "id": "4fa26021-157e-4b3e-a317-c092448bf7a8"
      },
      "outputs": [],
      "source": [
        "# Adding the Decision Variables to the model\n",
        "x = model.addVars(engineers, tasks, vtype=GRB.BINARY, name=\"x\")"
      ]
    },
    {
      "cell_type": "markdown",
      "id": "1eede101-a435-4dae-b656-48dfeb56067d",
      "metadata": {
        "id": "1eede101-a435-4dae-b656-48dfeb56067d"
      },
      "source": [
        "**8. Setting up the objective function in the model and instructing a minimization**"
      ]
    },
    {
      "cell_type": "code",
      "execution_count": null,
      "id": "857c4b19-bf27-4990-ab83-9be52f58ae21",
      "metadata": {
        "id": "857c4b19-bf27-4990-ab83-9be52f58ae21"
      },
      "outputs": [],
      "source": [
        "# Defining the Objective Function\n",
        "model.setObjective(gp.quicksum(cost[i, j] * x[i, j] for i in engineers for j in tasks), GRB.MINIMIZE)"
      ]
    },
    {
      "cell_type": "markdown",
      "id": "37c19b71-7dc8-4e5a-b502-751de62cf495",
      "metadata": {
        "id": "37c19b71-7dc8-4e5a-b502-751de62cf495"
      },
      "source": [
        "**9. Adding the individual constraints in the model formulation**"
      ]
    },
    {
      "cell_type": "code",
      "execution_count": null,
      "id": "8ac97073-af9d-4bd0-824e-5bb2ca1539e9",
      "metadata": {
        "id": "8ac97073-af9d-4bd0-824e-5bb2ca1539e9"
      },
      "outputs": [],
      "source": [
        "# Defining the Constraints\n",
        "# Coverage constraints\n",
        "for j in tasks:\n",
        "    model.addConstr(\n",
        "        gp.quicksum(individual_experience[i, j] * x[i, j] for i in engineers) >= minimum_combined_experience[j],\n",
        "        f\"Minimum Combined Experience_{j + 1}\"\n",
        "    )"
      ]
    },
    {
      "cell_type": "markdown",
      "id": "3aae4e40-3af4-46a4-9e28-8d10a43cce95",
      "metadata": {
        "id": "3aae4e40-3af4-46a4-9e28-8d10a43cce95"
      },
      "source": [
        "**10. Calling for the optimization of the model**"
      ]
    },
    {
      "cell_type": "code",
      "execution_count": null,
      "id": "31f178f6-3f4f-468a-b0cf-45791c7ce777",
      "metadata": {
        "id": "31f178f6-3f4f-468a-b0cf-45791c7ce777"
      },
      "outputs": [],
      "source": [
        "# Calling for the Optimization to be Performed\n",
        "model.optimize()"
      ]
    },
    {
      "cell_type": "markdown",
      "id": "94cf8a09-777c-4aad-a4af-af3382725c1b",
      "metadata": {
        "id": "94cf8a09-777c-4aad-a4af-af3382725c1b"
      },
      "source": [
        "**11. Printing the output**"
      ]
    },
    {
      "cell_type": "code",
      "execution_count": null,
      "id": "7cd15816-95a2-44fd-96dc-b4c776374340",
      "metadata": {
        "id": "7cd15816-95a2-44fd-96dc-b4c776374340"
      },
      "outputs": [],
      "source": [
        "# Prining out outputs.\n",
        "if model.status == GRB.OPTIMAL:\n",
        "    #If the optimization process produces an optimal solution, print the objective function value.\n",
        "    print(\"Optimal solution found!\")\n",
        "    print(f\"Total Assignment Cost: {model.objVal}\")\n",
        "\n",
        "    print(\"\\nEngineer Assignment:\")\n",
        "    #At this optimal solution, print the decision variable values which manifest as the Engineer-to-Task assignments\n",
        "    for i in engineers:\n",
        "        for j in tasks:\n",
        "            if x[i, j].x > 0.5:\n",
        "                print(f\"Engineer {engineers_names[i]} assigned to Task {tasks_names[j]}\")\n",
        "\n",
        "    print(\"\\nConstraint Information:\")\n",
        "    for constr in model.getConstrs():\n",
        "        print(f\"{constr.ConstrName}: Slack = {constr.slack}\")\n",
        "\n",
        "        constr_name = constr.ConstrName\n",
        "        if constr_name.startswith(\"Minimum Combined Experience\"):\n",
        "            #At this optimal solution, print the constraint values (LHS) and the respective constraint’s limit (RHS).\n",
        "            #This will indicate if each constraint is active at the optimal solution.\n",
        "            j = int(constr_name.split(\"_\")[1]) - 1\n",
        "            actual_value = sum(individual_experience[i, j] * x[i, j].x for i in engineers)\n",
        "            limit = minimum_combined_experience[j]\n",
        "            print(f\"  Actual Value = {actual_value}, Limit = {limit}\")\n",
        "\n",
        "    # Saving output to Excel\n",
        "    # At the optimal solution, writing the Engineer-Task assignments and associated Cost and Individual Experience to an Excel file.\n",
        "    solution_data = []\n",
        "    for i in engineers:\n",
        "        for j in tasks:\n",
        "            if x[i, j].x > 0.5:\n",
        "                solution_data.append({\n",
        "                    \"Engineer\": engineers_names[i],\n",
        "                    \"Task\": tasks_names[j],\n",
        "                    \"Cost\": cost[i, j],\n",
        "                    \"Individual Experience\": individual_experience[i, j]\n",
        "                })\n",
        "    solution_df = pd.DataFrame(solution_data)\n",
        "    solution_df.to_excel(\"engineer_assignment_solution.xlsx\", index=False)\n",
        "    print(\"Solution written to engineer_assignment_solution.xlsx\")\n",
        "\n",
        "else:\n",
        "    #Print this message if an optimal solution was not found\n",
        "    print(\"No optimal solution found.\")"
      ]
    },
    {
      "cell_type": "markdown",
      "id": "8235a55b-c2f6-405f-b79c-010202f59bb6",
      "metadata": {
        "id": "8235a55b-c2f6-405f-b79c-010202f59bb6"
      },
      "source": [
        "#### Expected outputs"
      ]
    },
    {
      "cell_type": "markdown",
      "id": "a0d6fd82-81a4-486a-85cf-f10c56b265f0",
      "metadata": {
        "id": "a0d6fd82-81a4-486a-85cf-f10c56b265f0"
      },
      "source": [
        "You should see the following output in the notebook above, after running the code:"
      ]
    },
    {
      "cell_type": "markdown",
      "id": "0fdde3be-9fcf-4568-b9fc-017f1375401e",
      "metadata": {
        "id": "0fdde3be-9fcf-4568-b9fc-017f1375401e"
      },
      "source": [
        "<div align=\"center\">\n",
        "   <img src=\"https://github.com/MartinStrobelSP/EssentialOptimizationForPractice/blob/main/images/activity2_output.png?raw=1\">\n",
        "</div>"
      ]
    },
    {
      "cell_type": "markdown",
      "id": "03e26ee8-a146-4fb3-bdd9-2424a283d7b8",
      "metadata": {
        "id": "03e26ee8-a146-4fb3-bdd9-2424a283d7b8"
      },
      "source": [
        "Further, there should now be a file named \"engineer_assignment_solution.xlsx\" in your activity folder containing the solution assignment."
      ]
    },
    {
      "cell_type": "markdown",
      "id": "feaa2ba7-079f-4619-8f5c-972c9a16278e",
      "metadata": {
        "id": "feaa2ba7-079f-4619-8f5c-972c9a16278e"
      },
      "source": [
        "<div align=\"center\">\n",
        "   <img src=\"https://github.com/MartinStrobelSP/EssentialOptimizationForPractice/blob/main/images/activity2_outputexcel.png?raw=1\">\n",
        "</div>"
      ]
    },
    {
      "cell_type": "markdown",
      "id": "f608e736-f198-4742-872a-f393026e53e1",
      "metadata": {
        "id": "f608e736-f198-4742-872a-f393026e53e1"
      },
      "source": [
        "### 2-3 Activity: Scenario Analysis - Explore the Optimal Solution"
      ]
    },
    {
      "cell_type": "markdown",
      "id": "4aa1ed5c-711d-4f55-a885-3e13d9618757",
      "metadata": {
        "id": "4aa1ed5c-711d-4f55-a885-3e13d9618757"
      },
      "source": [
        "**Question 1:**\n",
        "\n",
        "What happens when the ‘Minimum Coverage’ for a few of the tasks is increased sufficiently high?\n",
        "\n",
        "**ToDo:**\n",
        "\n",
        "- Tweak the data to change the ‘Minimum Combined Experience’ for **Tasks 2 and 5 to 25 years**\n",
        "- Upload the twealed data\n",
        "- Run the program (there is a copy of the code below).\n",
        "- Explore and summarise your understanding\n"
      ]
    },
    {
      "cell_type": "code",
      "source": [
        "from google.colab import files\n",
        "uploaded = files.upload()"
      ],
      "metadata": {
        "id": "L945vqRbfKO9"
      },
      "id": "L945vqRbfKO9",
      "execution_count": null,
      "outputs": []
    },
    {
      "cell_type": "code",
      "execution_count": null,
      "id": "64447f50-0d2e-49f3-9f08-8e7081e81bd2",
      "metadata": {
        "id": "64447f50-0d2e-49f3-9f08-8e7081e81bd2"
      },
      "outputs": [],
      "source": [
        "# Reading the Data\n",
        "data_file = \"data/Engineer_Assignment_Data.xlsx\"\n",
        "df = pd.read_excel(data_file, sheet_name='Nested_Data', header=0)\n",
        "\n",
        "# Extracting the data\n",
        "engineers_names = df['Engineer'].unique().tolist()\n",
        "tasks_names = df['Task'].unique().tolist()\n",
        "\n",
        "# Create mappings for engineers and tasks\n",
        "engineer_mapping = {engineer: i for i, engineer in enumerate(engineers_names)}\n",
        "task_mapping = {task: j for j, task in enumerate(tasks_names)}\n",
        "\n",
        "# Prepare the necessary data structures\n",
        "num_engineers = len(engineers_names)\n",
        "num_tasks = len(tasks_names)\n",
        "cost = np.zeros((num_engineers, num_tasks))\n",
        "individual_experience = np.zeros((num_engineers, num_tasks))\n",
        "minimum_combined_experience = np.zeros(num_tasks)\n",
        "\n",
        "# Populate the matrices\n",
        "for index, row in df.iterrows():\n",
        "    engineer_index = engineer_mapping[row['Engineer']]\n",
        "    task_index = task_mapping[row['Task']]\n",
        "    cost[engineer_index, task_index] = row['Cost']\n",
        "    individual_experience[engineer_index, task_index] = row['Individual Experience']\n",
        "    minimum_combined_experience[task_index] = row['Minimum Combined Experience']\n",
        "\n",
        "# Define engineers and tasks for model\n",
        "engineers = range(num_engineers)\n",
        "tasks = range(num_tasks)\n",
        "\n",
        "# Defining the Model\n",
        "model = gp.Model(\"Engineer_Assignment\")\n",
        "\n",
        "# Adding the Decision Variables to the model\n",
        "x = model.addVars(engineers, tasks, vtype=GRB.BINARY, name=\"x\")\n",
        "\n",
        "# Defining the Objective Function\n",
        "model.setObjective(gp.quicksum(cost[i, j] * x[i, j] for i in engineers for j in tasks), GRB.MINIMIZE)\n",
        "\n",
        "# Defining the Constraints\n",
        "# Coverage constraints\n",
        "for j in tasks:\n",
        "    model.addConstr(\n",
        "        gp.quicksum(individual_experience[i, j] * x[i, j] for i in engineers) >= minimum_combined_experience[j],\n",
        "        f\"Minimum Combined Experience_{j + 1}\"\n",
        "    )\n",
        "\n",
        "# Calling for the Optimization to be Performed\n",
        "model.optimize()\n",
        "\n",
        "# Prining out outputs.\n",
        "if model.status == GRB.OPTIMAL:\n",
        "    print(\"Optimal solution found!\")\n",
        "    print(f\"Total Assignment Cost: {model.objVal}\")\n",
        "\n",
        "    print(\"\\nEngineer Assignment:\")\n",
        "    for i in engineers:\n",
        "        for j in tasks:\n",
        "            if x[i, j].x > 0.5:\n",
        "                print(f\"Engineer {engineers_names[i]} assigned to Task {tasks_names[j]}\")\n",
        "\n",
        "    print(\"\\nConstraint Information:\")\n",
        "    for constr in model.getConstrs():\n",
        "        print(f\"{constr.ConstrName}: Slack = {constr.slack}\")\n",
        "\n",
        "        constr_name = constr.ConstrName\n",
        "        if constr_name.startswith(\"Coverage\"):\n",
        "            j = int(constr_name.split(\"_\")[1]) - 1\n",
        "            actual_value = sum(efficiency[i, j] * x[i, j].x for i in engineers)\n",
        "            limit = coverage[j]\n",
        "            print(f\"  Actual Value = {actual_value}, Limit = {limit}\")\n",
        "\n",
        "    # Saving output to Excel\n",
        "    solution_data = []\n",
        "    for i in engineers:\n",
        "        for j in tasks:\n",
        "            if x[i, j].x > 0.5:\n",
        "                solution_data.append({\n",
        "                    \"Engineer\": engineers_names[i],\n",
        "                    \"Task\": tasks_names[j],\n",
        "                    \"Cost\": cost[i, j],\n",
        "                    \"Efficiency\": efficiency[i, j]\n",
        "                })\n",
        "    solution_df = pd.DataFrame(solution_data)\n",
        "    solution_df.to_excel(\"engineer_assignment_solution.xlsx\", index=False)\n",
        "    print(\"Solution written to engineer_assignment_solution.xlsx\")\n",
        "\n",
        "else:\n",
        "    print(\"No optimal solution found.\")"
      ]
    },
    {
      "cell_type": "markdown",
      "id": "539b7b53-e373-4cd8-99d4-e62c124a5a9f",
      "metadata": {
        "id": "539b7b53-e373-4cd8-99d4-e62c124a5a9f"
      },
      "source": [
        "**Question 2:**\n",
        "\n",
        "What happens when the cost associated with one or a few of the engineers is increased ?\n",
        "\n",
        "**ToDos:**\n",
        "- Tweak the original data to increase the cost of ‘Engineer 2’ on Tasks 4 and 7 to $ 3500\n",
        "- Rerun the code. What do you observe?\n",
        "- Summarise your understanding\n"
      ]
    },
    {
      "cell_type": "markdown",
      "id": "ff1d28df-2700-4c86-b2d5-7aafbfad9add",
      "metadata": {
        "id": "ff1d28df-2700-4c86-b2d5-7aafbfad9add"
      },
      "source": [
        "**Question 3:**\n",
        "\n",
        "Suppose the skill level of all engineers for a certain task / set of tasks is low. How can this affect the optimal solution?\n",
        "\n",
        "**ToDos:**\n",
        "- Tweak the original data to increase to explore a few possibilities of this scenario\n",
        "- Summarise your understanding"
      ]
    }
  ],
  "metadata": {
    "kernelspec": {
      "display_name": "Python 3 (ipykernel)",
      "language": "python",
      "name": "python3"
    },
    "language_info": {
      "codemirror_mode": {
        "name": "ipython",
        "version": 3
      },
      "file_extension": ".py",
      "mimetype": "text/x-python",
      "name": "python",
      "nbconvert_exporter": "python",
      "pygments_lexer": "ipython3",
      "version": "3.12.4"
    },
    "colab": {
      "provenance": []
    }
  },
  "nbformat": 4,
  "nbformat_minor": 5
}