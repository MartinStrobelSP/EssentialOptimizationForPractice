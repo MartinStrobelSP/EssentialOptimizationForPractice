{
  "cells": [
    {
      "cell_type": "markdown",
      "source": [
        "[![Open In Colab](https://colab.research.google.com/assets/colab-badge.svg)](https://colab.research.google.com/github/MartinStrobelSP/EssentialOptimizationForPractice/blob/main/Activity1_Production_Planning_for_Two_Products.ipynb)"
      ],
      "metadata": {
        "id": "JUP6wrWMXwUv"
      },
      "id": "JUP6wrWMXwUv"
    },
    {
      "cell_type": "markdown",
      "id": "3cc5818d-4b51-4a81-9714-708e0b4504a7",
      "metadata": {
        "id": "3cc5818d-4b51-4a81-9714-708e0b4504a7"
      },
      "source": [
        "# Application Problem 1 - Production Planning for Two Products"
      ]
    },
    {
      "cell_type": "markdown",
      "id": "e9d90dcd-ceb9-4a6b-937a-febd58d183e1",
      "metadata": {
        "id": "e9d90dcd-ceb9-4a6b-937a-febd58d183e1"
      },
      "source": [
        "### Overview"
      ]
    },
    {
      "cell_type": "markdown",
      "id": "1e5f1918-7d90-4708-a7db-7a8ceb2014b8",
      "metadata": {
        "jp-MarkdownHeadingCollapsed": true,
        "id": "1e5f1918-7d90-4708-a7db-7a8ceb2014b8"
      },
      "source": [
        "\n",
        "A small manufacturing company produces two types of products: Product A and Product B. The company has limited resources available, including 40 hours of labor and 20 pounds of raw material per week.\n",
        "\n",
        "- **Product A:** requires 2 hours of labor and 1 pound of raw material per unit.\n",
        "- **Product B:** requires 4 hours of labor and 2 pounds of raw material per unit.\n",
        "\n",
        "The company makes a profit of dollar \\\\$10 per unit of Product A and \\\\$15 per unit of Product B.\n",
        "\n",
        "The company wants to determine the optimal production plan (number of units of Product A and Product B to produce) that maximizes weekly profit.\n",
        "<div align=\"center\">\n",
        "   <img src=\"https://github.com/MartinStrobelSP/EssentialOptimizationForPractice/blob/main/images/activity1_factory.png?raw=1\" width=\"300\">\n",
        "</div>\n",
        "    \n",
        "\n",
        "#### Decision Variables:\n",
        "\n",
        "- $x_A$: Number of units of Product A to produce ($ 0 \\leq x_A \\leq 15$)\n",
        "- $x_B$: Number of units of Product B to produce ($ 0 \\leq x_B \\leq 15$)\n",
        "\n",
        "#### Parameters\n",
        "\n",
        "- $p_A$: Profit per unit of Product A (\\$10)\n",
        "- $p_B$: Profit per unit of Product B (\\$15)\n",
        "- $L$: Total available labour hours (40 hours)\n",
        "- $R$: Total available raw material (20 pounds)\n",
        "- $l_A$: Labour hours required per unit of Product A (2 hours)\n",
        "- $l_B$: Labour hours required per unit of Product B (4 hours)\n",
        "- $r_A$: Raw material required per unit of Prdouct A (2 pounds)\n",
        "- $r_B:$ Raw material required per unit of Product B (1 pound)   \n",
        "\n",
        "\n"
      ]
    },
    {
      "cell_type": "markdown",
      "id": "0f0fc05a-0f39-49cd-a9d7-40908f847ca0",
      "metadata": {
        "id": "0f0fc05a-0f39-49cd-a9d7-40908f847ca0"
      },
      "source": [
        "### 1-1 Activity: Formulate the Problem"
      ]
    },
    {
      "cell_type": "markdown",
      "id": "e40d6a10-6d05-455d-b958-ec3755f1c0e8",
      "metadata": {
        "id": "e40d6a10-6d05-455d-b958-ec3755f1c0e8"
      },
      "source": [
        "**ToDo:**\n",
        "\n",
        "Do the following tasks:\n",
        "- **Define** the decision variables and any constraint on them\n",
        "- **Formulate** the objective function\n",
        "- **Define** the constraints and fromulate them\n",
        "\n",
        "You can drag an image of your formulation in the cell below and execute the cell to save your formulation within this notebook."
      ]
    },
    {
      "cell_type": "markdown",
      "id": "f5cb7993-8353-4d9f-bd9f-faad86f42ff6",
      "metadata": {
        "id": "f5cb7993-8353-4d9f-bd9f-faad86f42ff6"
      },
      "source": []
    },
    {
      "cell_type": "markdown",
      "id": "d3697d6c-fe1b-45cf-8eb3-1ca517dcff6c",
      "metadata": {
        "id": "d3697d6c-fe1b-45cf-8eb3-1ca517dcff6c"
      },
      "source": [
        "### 1-2 Anaylzing the Problem"
      ]
    },
    {
      "cell_type": "markdown",
      "id": "bea91609-bf6d-4fea-904b-802b3fff9d7f",
      "metadata": {
        "id": "bea91609-bf6d-4fea-904b-802b3fff9d7f"
      },
      "source": [
        "- This problem has a guaranteed set of feasible solutions within the constraints.\n",
        "- The decision variables,  $ x_A $ and $ x_B $, must be non-negative integers.\n",
        "- However, for a simplified initial analysis, we can treat them as continuous variables.\n",
        "- This problem provides a practical example of how linear programming can be applied in a manufacturing setting to optimize production decisions and maximize profiits.\n"
      ]
    },
    {
      "cell_type": "markdown",
      "id": "44fa36e5-146a-41fc-8cd3-a33c912a7274",
      "metadata": {
        "id": "44fa36e5-146a-41fc-8cd3-a33c912a7274"
      },
      "source": [
        "#### Graphical Representation and Algorithm\n",
        "\n",
        "This problem can be easily visualized and solved graphically.\n",
        "\n",
        "**Plot the constraints**\n",
        "\n",
        "- Each constraint (labor, raw material, non-negativity) will be represented by a line on a graph with $x_A$ and $x_B$ as the axes.\n",
        "- These lines define the feasible region where all constraints are satisfied.\n",
        "\n",
        "**Plot the objective function**\n",
        "\n",
        "- The objective function (profit) can be represented by a line that moves parallel to itself as the profit value changes.\n",
        "\n",
        "**Find the optimal solution**\n",
        "\n",
        "- The optimal solution will lie at one of the corner points (vertices) of the feasible region.\n",
        "- The algorithm (e.g., the Simplex Method) systematically evaluates these corner points to find the one that maximizes the objective function (profi).\n",
        "- Imagine the number of vertices to evaluate when a problem has 20 decision variables and 40 constraints, for example."
      ]
    },
    {
      "cell_type": "markdown",
      "id": "b4425c81-21da-4025-8ae8-66d87975e188",
      "metadata": {
        "id": "b4425c81-21da-4025-8ae8-66d87975e188"
      },
      "source": [
        "<div align=\"center\">\n",
        "   <img src=\"https://github.com/MartinStrobelSP/EssentialOptimizationForPractice/blob/main/images/activity1_visualization.png?raw=1\" width=\"900\">\n",
        "</div>"
      ]
    },
    {
      "cell_type": "markdown",
      "id": "85969d31-5913-4b63-9a69-bf34f9690353",
      "metadata": {
        "id": "85969d31-5913-4b63-9a69-bf34f9690353"
      },
      "source": [
        "### 1-3 Code Reference"
      ]
    },
    {
      "cell_type": "code",
      "source": [
        "!pip install gurobipy"
      ],
      "metadata": {
        "id": "Azdv6bqBbNJl"
      },
      "id": "Azdv6bqBbNJl",
      "execution_count": null,
      "outputs": []
    },
    {
      "cell_type": "code",
      "execution_count": null,
      "id": "722e3af0-b881-4b8d-85ae-36877204b738",
      "metadata": {
        "id": "722e3af0-b881-4b8d-85ae-36877204b738"
      },
      "outputs": [],
      "source": [
        "import gurobipy as gp\n",
        "from gurobipy import GRB"
      ]
    },
    {
      "cell_type": "code",
      "execution_count": null,
      "id": "15461d9b-7121-4a4b-a5fb-17ae9d837be2",
      "metadata": {
        "id": "15461d9b-7121-4a4b-a5fb-17ae9d837be2"
      },
      "outputs": [],
      "source": [
        "# Formulating the problem with the model, decision variables, objective function\n",
        "# and constraints. Includes the call to optimize the objective function.\n",
        "# All data entered in the code.\n",
        "\n",
        "\n",
        "model = gp.Model(\"myBIP\") # Creating and naming the module\n",
        "\n",
        "# Defining the decision variables and their lower and upper boundaries\n",
        "x_A = model.addVar(lb=0.0, ub=15.0, vtype=GRB.INTEGER, name=\"x\")\n",
        "x_B = model.addVar(lb=0.0, ub=15.0, vtype=GRB.INTEGER, name=\"y\")\n",
        "\n",
        "#Defining the objective function\n",
        "Profit = 10*x_A + 15*x_B\n",
        "model.setObjective(Profit, GRB.MAXIMIZE)\n",
        "\n",
        "#Defining the constraints and their limits\n",
        "Constraint_1 = 2*x_A + 4*x_B\n",
        "Constraint_2 = 2*x_A + x_B\n",
        "Bound_1 = 40\n",
        "Bound_2 = 20\n",
        "\n",
        "#Adding the constraints to the model\n",
        "# Labor Constraint\n",
        "Constr_1 = model.addConstr((Constraint_1<= Bound_1), name=\"Constraint1\")\n",
        "\n",
        "# Raw Material Constraint\n",
        "Constr_2 = model.addConstr((Constraint_2<= Bound_2), name=\"Constraint2\")\n",
        "\n",
        "# Non-Negativity Constraints\n",
        "# Th inclusion of lower bounds is redundant given that we already set lower bounds in the variable definition\n",
        "model.addConstr((x_A >= 0), name=\"Constraint3\")\n",
        "model.addConstr((x_B >= 0), name=\"Constraint4\")\n",
        "\n",
        "#Calling for the optimization of the model\n",
        "model.optimize()\n",
        "\n",
        "# Printing out the Optimal solutiom\n",
        "\n",
        "# If the optimization process produces an optimal solution:\n",
        "# Print the objective function value and the decision variable values at this optimal solution.\n",
        "if model.status == GRB.OPTIMAL:\n",
        "      # Get the optimal value of the variables\n",
        "      optimal_z = model.ObjVal\n",
        "\n",
        "      print(f\"Optimal solution found\")\n",
        "      print(f\"x_A = {x_A.X}\")\n",
        "      print(f\"x_B = {x_B.X}\")\n",
        "\n",
        "      print(f\"Optimal value of z : {optimal_z}\")\n",
        "\n",
        "      # Print constraint values at the optimal solution\n",
        "      # At this optimal solution, print the constraint values (LHS) and the respective constraint’s limit (RHS).\n",
        "      #This will indicate if each constraint is active at the optimal solution.\n",
        "      for constr in [Constr_1, Constr_2]:\n",
        "        #constr_value = constr.Pi # Shadow price/dual value\n",
        "        lhs_value = model.getRow(constr).getValue()  # LHS value\n",
        "        rhs_value = constr.RHS  # RHS value\n",
        "        print(f\"{constr.ConstrName}: LHS = {lhs_value}, RHS = {rhs_value})\")\n",
        "else:\n",
        "    # Print this message if an optimal solution was not found\n",
        "    print(\"Model was not solved to optimality.\")"
      ]
    },
    {
      "cell_type": "markdown",
      "id": "d37854b8-1836-4a71-9a9e-78ee42694fa7",
      "metadata": {
        "id": "d37854b8-1836-4a71-9a9e-78ee42694fa7"
      },
      "source": [
        "### 1-4 Activity: Scenario Analysis - Changing the decision variable bounds"
      ]
    },
    {
      "cell_type": "markdown",
      "id": "0894b3da-0c8d-452c-8475-bd72a57891c7",
      "metadata": {
        "id": "0894b3da-0c8d-452c-8475-bd72a57891c7"
      },
      "source": [
        "In this section, we explore the optimal solution"
      ]
    },
    {
      "cell_type": "markdown",
      "id": "dd4fdfee-c097-4beb-ba31-4e9ee942d70e",
      "metadata": {
        "id": "dd4fdfee-c097-4beb-ba31-4e9ee942d70e"
      },
      "source": [
        "\n",
        "\n",
        "What happens what happens when the upper bounds of the decision variables are changed?\n",
        "\n",
        "Try the following changes to the upper bounds of the decsion variables:\n",
        "\n",
        "| | | |  |  |\n",
        "| --- | --- | --- | --- | --- |\n",
        "| $x_A$ | 5 | 7 | 9 | 12 |\n",
        "| $x_B$ | 5 | 7 | 9 | 12 |\n",
        "\n",
        "**ToDo:**\n",
        "\n",
        "- Tweak the code below (which is a copy of the code above) to change the upperbounds.\n",
        "- How are the optimal results changing?\n",
        "- What can you say about the outcomes of this exploration?\n",
        "\n"
      ]
    },
    {
      "cell_type": "code",
      "execution_count": null,
      "id": "b69c053a-432a-4ca8-9b5b-53115e4db6d0",
      "metadata": {
        "id": "b69c053a-432a-4ca8-9b5b-53115e4db6d0"
      },
      "outputs": [],
      "source": [
        "# Formulating the problem with the model, decision variables, objective function\n",
        "# and constraints. Includes the call to optimize the objective function.\n",
        "# All data entered in the code.\n",
        "\n",
        "\n",
        "model = gp.Model(\"myBIP\") # Creating and naming the module\n",
        "\n",
        "# Defining the decision variables and their lower and upper boundaries\n",
        "x_A = model.addVar(lb=0.0, ub=15.0, vtype=GRB.INTEGER, name=\"x\")\n",
        "x_B = model.addVar(lb=0.0, ub=15.0, vtype=GRB.INTEGER, name=\"y\")\n",
        "\n",
        "#Defining the objective function\n",
        "Profit = 10*x_A + 15*x_B\n",
        "model.setObjective(Profit, GRB.MAXIMIZE)\n",
        "\n",
        "#Defining the constraints and their limits\n",
        "Constraint_1 = 2*x_A + 4*x_B\n",
        "Constraint_2 = 2*x_A + x_B\n",
        "Bound_1 = 40\n",
        "Bound_2 = 20\n",
        "\n",
        "#Adding the constraints to the model\n",
        "# Labor Constraint\n",
        "Constr_1 = model.addConstr((Constraint_1<= Bound_1), name=\"Constraint1\")\n",
        "\n",
        "# Raw Material Constraint\n",
        "Constr_2 = model.addConstr((Constraint_2<= Bound_2), name=\"Constraint2\")\n",
        "\n",
        "# Non-Negativity Constraints\n",
        "# Th inclusion of lower bounds is redundant given that we already set lower bounds in the variable definition\n",
        "model.addConstr((x_A >= 0), name=\"Constraint3\")\n",
        "model.addConstr((x_B >= 0), name=\"Constraint4\")\n",
        "\n",
        "#Calling for the optimization of the model\n",
        "model.optimize()\n",
        "\n",
        "# Printing out the Optimal solutiom\n",
        "\n",
        "# If the optimization process produces an optimal solution:\n",
        "# Print the objective function value and the decision variable values at this optimal solution.\n",
        "if model.status == GRB.OPTIMAL:\n",
        "      # Get the optimal value of the variables\n",
        "      optimal_z = model.ObjVal\n",
        "\n",
        "      print(f\"Optimal solution found\")\n",
        "      print(f\"x_A = {x_A.X}\")\n",
        "      print(f\"x_B = {x_B.X}\")\n",
        "\n",
        "      print(f\"Optimal value of z : {optimal_z}\")\n",
        "\n",
        "      # Print constraint values at the optimal solution\n",
        "      # At this optimal solution, print the constraint values (LHS) and the respective constraint’s limit (RHS).\n",
        "      #This will indicate if each constraint is active at the optimal solution.\n",
        "      for constr in [Constr_1, Constr_2]:\n",
        "        #constr_value = constr.Pi # Shadow price/dual value\n",
        "        lhs_value = model.getRow(constr).getValue()  # LHS value\n",
        "        rhs_value = constr.RHS  # RHS value\n",
        "        print(f\"{constr.ConstrName}: LHS = {lhs_value}, RHS = {rhs_value})\")\n",
        "else:\n",
        "    # Print this message if an optimal solution was not found\n",
        "    print(\"Model was not solved to optimality.\")"
      ]
    },
    {
      "cell_type": "markdown",
      "id": "4c794b73-0e50-4e11-85c8-5a0c43517913",
      "metadata": {
        "id": "4c794b73-0e50-4e11-85c8-5a0c43517913"
      },
      "source": [
        "### 1-5 Activity: Scenario Analysis - Changing the constraint limits"
      ]
    },
    {
      "cell_type": "markdown",
      "id": "a50c6cd4-35ab-4dc8-8832-9da9bd0b2232",
      "metadata": {
        "id": "a50c6cd4-35ab-4dc8-8832-9da9bd0b2232"
      },
      "source": [
        "What happens  when the constraint limits are changed?\n",
        "\n",
        "Try the following changes to the constraint limits?\n",
        "\n",
        "| | | |  |  |\n",
        "| --- | --- | --- | --- | --- |\n",
        "| **Contraint 1 Limit** | 20 | 50 | 80 | 100 |\n",
        "| **Contraint 2 Limit** | 10 | 30 | 60 | 80 |\n",
        "\n",
        "**ToDo:**\n",
        "\n",
        "- Tweak the code below (which is a copy of the original code above) to change the constraint limits.\n",
        "- What do you observe about the optimal results as these limits are changed?\n"
      ]
    },
    {
      "cell_type": "code",
      "execution_count": null,
      "id": "f60308ac-b6e1-40f3-9d0a-b73dd799f199",
      "metadata": {
        "id": "f60308ac-b6e1-40f3-9d0a-b73dd799f199"
      },
      "outputs": [],
      "source": [
        "# Formulating the problem with the model, decision variables, objective function\n",
        "# and constraints. Includes the call to optimize the objective function.\n",
        "# All data entered in the code.\n",
        "\n",
        "\n",
        "model = gp.Model(\"myBIP\") # Creating and naming the module\n",
        "\n",
        "# Defining the decision variables and their lower and upper boundaries\n",
        "x_A = model.addVar(lb=0.0, ub=15.0, vtype=GRB.INTEGER, name=\"x\")\n",
        "x_B = model.addVar(lb=0.0, ub=15.0, vtype=GRB.INTEGER, name=\"y\")\n",
        "\n",
        "#Defining the objective function\n",
        "Profit = 10*x_A + 15*x_B\n",
        "model.setObjective(Profit, GRB.MAXIMIZE)\n",
        "\n",
        "#Defining the constraints and their limits\n",
        "Constraint_1 = 2*x_A + 4*x_B\n",
        "Constraint_2 = 2*x_A + x_B\n",
        "Bound_1 = 40\n",
        "Bound_2 = 20\n",
        "\n",
        "#Adding the constraints to the model\n",
        "# Labor Constraint\n",
        "Constr_1 = model.addConstr((Constraint_1<= Bound_1), name=\"Constraint1\")\n",
        "\n",
        "# Raw Material Constraint\n",
        "Constr_2 = model.addConstr((Constraint_2<= Bound_2), name=\"Constraint2\")\n",
        "\n",
        "# Non-Negativity Constraints\n",
        "# Th inclusion of lower bounds is redundant given that we already set lower bounds in the variable definition\n",
        "model.addConstr((x_A >= 0), name=\"Constraint3\")\n",
        "model.addConstr((x_B >= 0), name=\"Constraint4\")\n",
        "\n",
        "#Calling for the optimization of the model\n",
        "model.optimize()\n",
        "\n",
        "# Printing out the Optimal solutiom\n",
        "\n",
        "# If the optimization process produces an optimal solution:\n",
        "# Print the objective function value and the decision variable values at this optimal solution.\n",
        "if model.status == GRB.OPTIMAL:\n",
        "      # Get the optimal value of the variables\n",
        "      optimal_z = model.ObjVal\n",
        "\n",
        "      print(f\"Optimal solution found\")\n",
        "      print(f\"x_A = {x_A.X}\")\n",
        "      print(f\"x_B = {x_B.X}\")\n",
        "\n",
        "      print(f\"Optimal value of z : {optimal_z}\")\n",
        "\n",
        "      # Print constraint values at the optimal solution\n",
        "      # At this optimal solution, print the constraint values (LHS) and the respective constraint’s limit (RHS).\n",
        "      #This will indicate if each constraint is active at the optimal solution.\n",
        "      for constr in [Constr_1, Constr_2]:\n",
        "        #constr_value = constr.Pi # Shadow price/dual value\n",
        "        lhs_value = model.getRow(constr).getValue()  # LHS value\n",
        "        rhs_value = constr.RHS  # RHS value\n",
        "        print(f\"{constr.ConstrName}: LHS = {lhs_value}, RHS = {rhs_value})\")\n",
        "else:\n",
        "    # Print this message if an optimal solution was not found\n",
        "    print(\"Model was not solved to optimality.\")"
      ]
    },
    {
      "cell_type": "markdown",
      "id": "2a2407de-4a4d-45bc-bc6a-200984c44b24",
      "metadata": {
        "id": "2a2407de-4a4d-45bc-bc6a-200984c44b24"
      },
      "source": [
        "### (Optional) 1-6 Activity: Double sided constraints"
      ]
    },
    {
      "cell_type": "markdown",
      "id": "c6248ec1-8fc0-4a0f-9c71-717a172c20ae",
      "metadata": {
        "id": "c6248ec1-8fc0-4a0f-9c71-717a172c20ae"
      },
      "source": [
        "How would you modify the code to handle double sides constraints, as seen below?\n",
        "\n",
        "- $40 \\leq 2x_A + 4x_B \\leq 80$\n",
        "- $30 \\leq 2x_A + 1x_B \\leq 60$"
      ]
    },
    {
      "cell_type": "code",
      "execution_count": null,
      "id": "237d3e62-892b-4935-b517-74fa3968ae0d",
      "metadata": {
        "id": "237d3e62-892b-4935-b517-74fa3968ae0d"
      },
      "outputs": [],
      "source": [
        "# Formulating the problem with the model, decision variables, objective function\n",
        "# and constraints. Includes the call to optimize the objective function.\n",
        "# All data entered in the code.\n",
        "\n",
        "\n",
        "model = gp.Model(\"myBIP\") # Creating and naming the module\n",
        "\n",
        "# Defining the decision variables and their lower and upper boundaries\n",
        "x_A = model.addVar(lb=0.0, ub=15.0, vtype=GRB.INTEGER, name=\"x\")\n",
        "x_B = model.addVar(lb=0.0, ub=15.0, vtype=GRB.INTEGER, name=\"y\")\n",
        "\n",
        "#Defining the objective function\n",
        "Profit = 10*x_A + 15*x_B\n",
        "model.setObjective(Profit, GRB.MAXIMIZE)\n",
        "\n",
        "#Defining the constraints and their limits\n",
        "Constraint_1 = 2*x_A + 4*x_B\n",
        "Constraint_2 = 2*x_A + x_B\n",
        "Bound_1 = 40\n",
        "Bound_2 = 20\n",
        "\n",
        "#Adding the constraints to the model\n",
        "# Labor Constraint\n",
        "Constr_1 = model.addConstr((Constraint_1<= Bound_1), name=\"Constraint1\")\n",
        "\n",
        "# Raw Material Constraint\n",
        "Constr_2 = model.addConstr((Constraint_2<= Bound_2), name=\"Constraint2\")\n",
        "\n",
        "# Non-Negativity Constraints\n",
        "# Th inclusion of lower bounds is redundant given that we already set lower bounds in the variable definition\n",
        "model.addConstr((x_A >= 0), name=\"Constraint3\")\n",
        "model.addConstr((x_B >= 0), name=\"Constraint4\")\n",
        "\n",
        "#Calling for the optimization of the model\n",
        "model.optimize()\n",
        "\n",
        "# Printing out the Optimal solutiom\n",
        "\n",
        "# If the optimization process produces an optimal solution:\n",
        "# Print the objective function value and the decision variable values at this optimal solution.\n",
        "if model.status == GRB.OPTIMAL:\n",
        "      # Get the optimal value of the variables\n",
        "      optimal_z = model.ObjVal\n",
        "\n",
        "      print(f\"Optimal solution found\")\n",
        "      print(f\"x_A = {x_A.X}\")\n",
        "      print(f\"x_B = {x_B.X}\")\n",
        "\n",
        "      print(f\"Optimal value of z : {optimal_z}\")\n",
        "\n",
        "      # Print constraint values at the optimal solution\n",
        "      # At this optimal solution, print the constraint values (LHS) and the respective constraint’s limit (RHS).\n",
        "      #This will indicate if each constraint is active at the optimal solution.\n",
        "      for constr in [Constr_1, Constr_2]:\n",
        "        #constr_value = constr.Pi # Shadow price/dual value\n",
        "        lhs_value = model.getRow(constr).getValue()  # LHS value\n",
        "        rhs_value = constr.RHS  # RHS value\n",
        "        print(f\"{constr.ConstrName}: LHS = {lhs_value}, RHS = {rhs_value})\")\n",
        "else:\n",
        "    # Print this message if an optimal solution was not found\n",
        "    print(\"Model was not solved to optimality.\")"
      ]
    }
  ],
  "metadata": {
    "kernelspec": {
      "display_name": "Python 3 (ipykernel)",
      "language": "python",
      "name": "python3"
    },
    "language_info": {
      "codemirror_mode": {
        "name": "ipython",
        "version": 3
      },
      "file_extension": ".py",
      "mimetype": "text/x-python",
      "name": "python",
      "nbconvert_exporter": "python",
      "pygments_lexer": "ipython3",
      "version": "3.12.4"
    },
    "colab": {
      "provenance": []
    }
  },
  "nbformat": 4,
  "nbformat_minor": 5
}