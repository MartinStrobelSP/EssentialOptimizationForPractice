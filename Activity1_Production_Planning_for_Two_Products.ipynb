{
  "cells": [
    {
      "cell_type": "markdown",
      "source": [
        "[![Open In Colab](https://colab.research.google.com/assets/colab-badge.svg)](https://colab.research.google.com/github/MartinStrobelSP/EssentialOptimizationForPractice/blob/main/Activity1_Production_Planning_for_Two_Products.ipynb)"
      ],
      "metadata": {
        "id": "JUP6wrWMXwUv"
      },
      "id": "JUP6wrWMXwUv"
    },
    {
      "cell_type": "markdown",
      "id": "3cc5818d-4b51-4a81-9714-708e0b4504a7",
      "metadata": {
        "id": "3cc5818d-4b51-4a81-9714-708e0b4504a7"
      },
      "source": [
        "# Application Problem 1 - Production Planning for Two Products"
      ]
    },
    {
      "cell_type": "markdown",
      "id": "e9d90dcd-ceb9-4a6b-937a-febd58d183e1",
      "metadata": {
        "id": "e9d90dcd-ceb9-4a6b-937a-febd58d183e1"
      },
      "source": [
        "### Overview"
      ]
    },
    {
      "cell_type": "markdown",
      "id": "1e5f1918-7d90-4708-a7db-7a8ceb2014b8",
      "metadata": {
        "jp-MarkdownHeadingCollapsed": true,
        "id": "1e5f1918-7d90-4708-a7db-7a8ceb2014b8"
      },
      "source": [
        "\n",
        "A small manufacturing company produces two types of products: Product A and Product B. The company has limited resources available, including 40 hours of labor and 20 pounds of raw material per week.\n",
        "\n",
        "- **Product A:** requires 2 hours of labor and 1 pound of raw material per unit.\n",
        "- **Product B:** requires 4 hours of labor and 2 pounds of raw material per unit.\n",
        "\n",
        "The company makes a profit of \\\\$10 per unit of Product A and \\\\$15 per unit of Product B.\n",
        "\n",
        "The company wants to determine the optimal production plan (number of units of Product A and Product B to produce) that maximizes weekly profit.\n",
        "<div align=\"center\">\n",
        "   <img src=\"https://github.com/MartinStrobelSP/EssentialOptimizationForPractice/blob/main/images/activity1_factory.png?raw=1\" width=\"300\">\n",
        "</div>\n",
        "    \n",
        "\n",
        "#### Decision Variables:\n",
        "\n",
        "- $x_A$: Number of units of Product A to produce ($ 0 \\leq x_A \\leq 15$)\n",
        "- $x_B$: Number of units of Product B to produce ($ 0 \\leq x_B \\leq 15$)\n",
        "\n",
        "#### Parameters\n",
        "\n",
        "- $p_A$: Profit per unit of Product A (\\$10)\n",
        "- $p_B$: Profit per unit of Product B (\\$15)\n",
        "- $L$: Total available labour hours (40 hours)\n",
        "- $R$: Total available raw material (20 pounds)\n",
        "- $l_A$: Labour hours required per unit of Product A (2 hours)\n",
        "- $l_B$: Labour hours required per unit of Product B (4 hours)\n",
        "- $r_A$: Raw material required per unit of Prdouct A (2 pounds)\n",
        "- $r_B:$ Raw material required per unit of Product B (1 pound)   \n",
        "\n",
        "\n"
      ]
    },
    {
      "cell_type": "markdown",
      "id": "0f0fc05a-0f39-49cd-a9d7-40908f847ca0",
      "metadata": {
        "id": "0f0fc05a-0f39-49cd-a9d7-40908f847ca0"
      },
      "source": [
        "### 1-1 Activity: Formulate the Problem"
      ]
    },
    {
      "cell_type": "markdown",
      "id": "e40d6a10-6d05-455d-b958-ec3755f1c0e8",
      "metadata": {
        "id": "e40d6a10-6d05-455d-b958-ec3755f1c0e8"
      },
      "source": [
        "**ToDo:**\n",
        "\n",
        "Do the following tasks:\n",
        "- **Define** the decision variables and any constraint on them\n",
        "- **Formulate** the objective function\n",
        "- **Define** the constraints and fromulate them\n",
        "\n",
        "You can drag an image of your formulation in the cell below and execute the cell to save your formulation within this notebook."
      ]
    },
    {
      "cell_type": "markdown",
      "id": "f5cb7993-8353-4d9f-bd9f-faad86f42ff6",
      "metadata": {
        "id": "f5cb7993-8353-4d9f-bd9f-faad86f42ff6"
      },
      "source": []
    },
    {
      "cell_type": "markdown",
      "id": "d3697d6c-fe1b-45cf-8eb3-1ca517dcff6c",
      "metadata": {
        "id": "d3697d6c-fe1b-45cf-8eb3-1ca517dcff6c"
      },
      "source": [
        "### 1-2 Anaylzing the Problem"
      ]
    },
    {
      "cell_type": "markdown",
      "id": "bea91609-bf6d-4fea-904b-802b3fff9d7f",
      "metadata": {
        "id": "bea91609-bf6d-4fea-904b-802b3fff9d7f"
      },
      "source": [
        "- This problem has a guaranteed set of feasible solutions within the constraints.\n",
        "- The decision variables,  $ x_A $ and $ x_B $, must be non-negative integers.\n",
        "- However, for a simplified initial analysis, we can treat them as continuous variables.\n",
        "- This problem provides a practical example of how linear programming can be applied in a manufacturing setting to optimize production decisions and maximize profiits.\n"
      ]
    },
    {
      "cell_type": "markdown",
      "id": "44fa36e5-146a-41fc-8cd3-a33c912a7274",
      "metadata": {
        "id": "44fa36e5-146a-41fc-8cd3-a33c912a7274"
      },
      "source": [
        "#### Graphical Representation and Algorithm\n",
        "\n",
        "This problem can be easily visualized and solved graphically.\n",
        "\n",
        "**Plot the constraints**\n",
        "\n",
        "- Each constraint (labor, raw material, non-negativity) will be represented by a line on a graph with $x_A$ and $x_B$ as the axes.\n",
        "- These lines define the feasible region where all constraints are satisfied.\n",
        "\n",
        "**Plot the objective function**\n",
        "\n",
        "- The objective function (profit) can be represented by a line that moves parallel to itself as the profit value changes.\n",
        "\n",
        "**Find the optimal solution**\n",
        "\n",
        "- The optimal solution will lie at one of the corner points (vertices) of the feasible region.\n",
        "- The algorithm (e.g., the Simplex Method) systematically evaluates these corner points to find the one that maximizes the objective function (profi).\n",
        "- Imagine the number of vertices to evaluate when a problem has 20 decision variables and 40 constraints, for example."
      ]
    },
    {
      "cell_type": "code",
      "source": [
        "#@title Interactive LP Plot { display-mode: \"form\" }\n",
        "\n",
        "import numpy as np\n",
        "import matplotlib.pyplot as plt\n",
        "from ipywidgets import interact\n",
        "import ipywidgets as widgets\n",
        "\n",
        "# Define constraints\n",
        "def constraint1(x):\n",
        "    return (40 - 2*x)/4  # 2xA + 4xB ≤ 40 → xB ≤ (40 - 2xA)/4\n",
        "\n",
        "def constraint2(x):\n",
        "    return (20 - 2*x)/1  # 2xA + xB ≤ 20 → xB ≤ (20 - 2xA)\n",
        "\n",
        "# Objective function line: Z = 10xA + 15xB → xB = (Z - 10xA)/15\n",
        "def objective(x, z):\n",
        "    return (z - 10*x)/15\n",
        "\n",
        "# Setup for plot\n",
        "x_vals = np.linspace(0, 25, 300)\n",
        "\n",
        "# Create interactive plot\n",
        "@interact(z=widgets.FloatSlider(value=0, min=0, max=200, step=5, description='Profit:'))\n",
        "def plot_feasible_region(z):\n",
        "    plt.figure(figsize=(10, 6))\n",
        "\n",
        "    # Constraint lines\n",
        "    plt.plot(x_vals, constraint1(x_vals), 'r--', label=r'Labor: $2x_A + 4x_B \\leq 40$')\n",
        "    plt.plot(x_vals, constraint2(x_vals), 'b--', label=r'Material: $2x_A + x_B \\leq 20$')\n",
        "\n",
        "    # Axes limits\n",
        "    plt.xlim(0, 20)\n",
        "    plt.ylim(0, 20)\n",
        "\n",
        "    # Shading the feasible region\n",
        "    x = np.linspace(0, 20, 400)\n",
        "    y1 = constraint1(x)\n",
        "    y2 = constraint2(x)\n",
        "    y3 = np.full_like(x, 0)\n",
        "    plt.fill_between(x, np.maximum(y3, np.minimum(y1, y2)), 0,\n",
        "                     where=(y1 >= y3) & (y2 >= y3), color='gray', alpha=0.3, label='Feasible Region')\n",
        "\n",
        "    # Objective line\n",
        "    y_obj = objective(x_vals, z)\n",
        "    plt.plot(x_vals, y_obj, 'k-', linewidth=2, label=r'$Profit = 10x_A + 15x_B$')\n",
        "\n",
        "    # Axes labels\n",
        "    plt.xlabel(r'$x_A$')\n",
        "    plt.ylabel(r'$x_B$')\n",
        "    plt.title('Visual Linear Program')\n",
        "    plt.grid(True)\n",
        "    plt.axhline(0, color='black')\n",
        "    plt.axvline(0, color='black')\n",
        "    plt.legend()\n",
        "    plt.show()\n"
      ],
      "metadata": {
        "id": "WXxELbLmgypg",
        "outputId": "e4acd27f-9ad1-410a-c431-750000244aa4",
        "colab": {
          "base_uri": "https://localhost:8080/",
          "height": 597,
          "referenced_widgets": [
            "6e701700043940d28c9d70665885a372",
            "0364d0fea1324771af06b8bca897679b",
            "f0a5c7ad69094f1bb32d7dc6d28fbd7f",
            "f092e666dd74485ea1e27dfc710a8a7d",
            "ebba1904ac1640a18e630fa20e028496",
            "c420fe9892134f47b0a8c80082f3890e",
            "2e1a94afca944770bbf7b539747f53bd"
          ]
        }
      },
      "id": "WXxELbLmgypg",
      "execution_count": 3,
      "outputs": [
        {
          "output_type": "display_data",
          "data": {
            "text/plain": [
              "interactive(children=(FloatSlider(value=0.0, description='Profit:', max=200.0, step=5.0), Output()), _dom_clas…"
            ],
            "application/vnd.jupyter.widget-view+json": {
              "version_major": 2,
              "version_minor": 0,
              "model_id": "6e701700043940d28c9d70665885a372"
            }
          },
          "metadata": {}
        }
      ]
    },
    {
      "cell_type": "markdown",
      "id": "b4425c81-21da-4025-8ae8-66d87975e188",
      "metadata": {
        "id": "b4425c81-21da-4025-8ae8-66d87975e188"
      },
      "source": [
        "<div align=\"center\">\n",
        "   <img src=\"https://github.com/MartinStrobelSP/EssentialOptimizationForPractice/blob/main/images/activity1_visualization.png?raw=1\" width=\"900\">\n",
        "</div>"
      ]
    },
    {
      "cell_type": "markdown",
      "id": "85969d31-5913-4b63-9a69-bf34f9690353",
      "metadata": {
        "id": "85969d31-5913-4b63-9a69-bf34f9690353"
      },
      "source": [
        "### 1-3 Code Reference"
      ]
    },
    {
      "cell_type": "code",
      "source": [
        "!pip install gurobipy"
      ],
      "metadata": {
        "id": "Azdv6bqBbNJl"
      },
      "id": "Azdv6bqBbNJl",
      "execution_count": null,
      "outputs": []
    },
    {
      "cell_type": "code",
      "execution_count": null,
      "id": "722e3af0-b881-4b8d-85ae-36877204b738",
      "metadata": {
        "id": "722e3af0-b881-4b8d-85ae-36877204b738"
      },
      "outputs": [],
      "source": [
        "import gurobipy as gp\n",
        "from gurobipy import GRB"
      ]
    },
    {
      "cell_type": "code",
      "execution_count": null,
      "id": "15461d9b-7121-4a4b-a5fb-17ae9d837be2",
      "metadata": {
        "id": "15461d9b-7121-4a4b-a5fb-17ae9d837be2"
      },
      "outputs": [],
      "source": [
        "# Formulating the problem with the model, decision variables, objective function\n",
        "# and constraints. Includes the call to optimize the objective function.\n",
        "# All data entered in the code.\n",
        "\n",
        "\n",
        "model = gp.Model(\"myBIP\") # Creating and naming the module\n",
        "\n",
        "# Defining the decision variables and their lower and upper boundaries\n",
        "x_A = model.addVar(lb=0.0, ub=15.0, vtype=GRB.INTEGER, name=\"x\")\n",
        "x_B = model.addVar(lb=0.0, ub=15.0, vtype=GRB.INTEGER, name=\"y\")\n",
        "\n",
        "#Defining the objective function\n",
        "Profit = 10*x_A + 15*x_B\n",
        "model.setObjective(Profit, GRB.MAXIMIZE)\n",
        "\n",
        "#Defining the constraints and their limits\n",
        "Constraint_1 = 2*x_A + 4*x_B\n",
        "Constraint_2 = 2*x_A + x_B\n",
        "Bound_1 = 40\n",
        "Bound_2 = 20\n",
        "\n",
        "#Adding the constraints to the model\n",
        "# Labor Constraint\n",
        "Constr_1 = model.addConstr((Constraint_1<= Bound_1), name=\"Constraint1\")\n",
        "\n",
        "# Raw Material Constraint\n",
        "Constr_2 = model.addConstr((Constraint_2<= Bound_2), name=\"Constraint2\")\n",
        "\n",
        "# Non-Negativity Constraints\n",
        "# Th inclusion of lower bounds is redundant given that we already set lower bounds in the variable definition\n",
        "model.addConstr((x_A >= 0), name=\"Constraint3\")\n",
        "model.addConstr((x_B >= 0), name=\"Constraint4\")\n",
        "\n",
        "#Calling for the optimization of the model\n",
        "model.optimize()\n",
        "\n",
        "# Printing out the Optimal solutiom\n",
        "\n",
        "# If the optimization process produces an optimal solution:\n",
        "# Print the objective function value and the decision variable values at this optimal solution.\n",
        "if model.status == GRB.OPTIMAL:\n",
        "      # Get the optimal value of the variables\n",
        "      optimal_z = model.ObjVal\n",
        "\n",
        "      print(f\"Optimal solution found\")\n",
        "      print(f\"x_A = {x_A.X}\")\n",
        "      print(f\"x_B = {x_B.X}\")\n",
        "\n",
        "      print(f\"Optimal value of z : {optimal_z}\")\n",
        "\n",
        "      # Print constraint values at the optimal solution\n",
        "      # At this optimal solution, print the constraint values (LHS) and the respective constraint’s limit (RHS).\n",
        "      #This will indicate if each constraint is active at the optimal solution.\n",
        "      for constr in [Constr_1, Constr_2]:\n",
        "        #constr_value = constr.Pi # Shadow price/dual value\n",
        "        lhs_value = model.getRow(constr).getValue()  # LHS value\n",
        "        rhs_value = constr.RHS  # RHS value\n",
        "        print(f\"{constr.ConstrName}: LHS = {lhs_value}, RHS = {rhs_value})\")\n",
        "else:\n",
        "    # Print this message if an optimal solution was not found\n",
        "    print(\"Model was not solved to optimality.\")"
      ]
    },
    {
      "cell_type": "markdown",
      "id": "d37854b8-1836-4a71-9a9e-78ee42694fa7",
      "metadata": {
        "id": "d37854b8-1836-4a71-9a9e-78ee42694fa7"
      },
      "source": [
        "### 1-4 Activity: Scenario Analysis - Changing the decision variable bounds"
      ]
    },
    {
      "cell_type": "markdown",
      "id": "0894b3da-0c8d-452c-8475-bd72a57891c7",
      "metadata": {
        "id": "0894b3da-0c8d-452c-8475-bd72a57891c7"
      },
      "source": [
        "In this section, we explore the optimal solution"
      ]
    },
    {
      "cell_type": "markdown",
      "id": "dd4fdfee-c097-4beb-ba31-4e9ee942d70e",
      "metadata": {
        "id": "dd4fdfee-c097-4beb-ba31-4e9ee942d70e"
      },
      "source": [
        "\n",
        "\n",
        "What happens what happens when the upper bounds of the decision variables are changed?\n",
        "\n",
        "Try the following changes to the upper bounds of the decsion variables:\n",
        "\n",
        "| | | |  |  |\n",
        "| --- | --- | --- | --- | --- |\n",
        "| $x_A$ | 5 | 7 | 9 | 12 |\n",
        "| $x_B$ | 5 | 7 | 9 | 12 |\n",
        "\n",
        "**ToDo:**\n",
        "\n",
        "- Tweak the code below (which is a copy of the code above) to change the upperbounds.\n",
        "- How are the optimal results changing?\n",
        "- What can you say about the outcomes of this exploration?\n",
        "\n"
      ]
    },
    {
      "cell_type": "code",
      "execution_count": null,
      "id": "b69c053a-432a-4ca8-9b5b-53115e4db6d0",
      "metadata": {
        "id": "b69c053a-432a-4ca8-9b5b-53115e4db6d0"
      },
      "outputs": [],
      "source": [
        "# Formulating the problem with the model, decision variables, objective function\n",
        "# and constraints. Includes the call to optimize the objective function.\n",
        "# All data entered in the code.\n",
        "\n",
        "\n",
        "model = gp.Model(\"myBIP\") # Creating and naming the module\n",
        "\n",
        "# Defining the decision variables and their lower and upper boundaries\n",
        "x_A = model.addVar(lb=0.0, ub=15.0, vtype=GRB.INTEGER, name=\"x\")\n",
        "x_B = model.addVar(lb=0.0, ub=15.0, vtype=GRB.INTEGER, name=\"y\")\n",
        "\n",
        "#Defining the objective function\n",
        "Profit = 10*x_A + 15*x_B\n",
        "model.setObjective(Profit, GRB.MAXIMIZE)\n",
        "\n",
        "#Defining the constraints and their limits\n",
        "Constraint_1 = 2*x_A + 4*x_B\n",
        "Constraint_2 = 2*x_A + x_B\n",
        "Bound_1 = 40\n",
        "Bound_2 = 20\n",
        "\n",
        "#Adding the constraints to the model\n",
        "# Labor Constraint\n",
        "Constr_1 = model.addConstr((Constraint_1<= Bound_1), name=\"Constraint1\")\n",
        "\n",
        "# Raw Material Constraint\n",
        "Constr_2 = model.addConstr((Constraint_2<= Bound_2), name=\"Constraint2\")\n",
        "\n",
        "# Non-Negativity Constraints\n",
        "# Th inclusion of lower bounds is redundant given that we already set lower bounds in the variable definition\n",
        "model.addConstr((x_A >= 0), name=\"Constraint3\")\n",
        "model.addConstr((x_B >= 0), name=\"Constraint4\")\n",
        "\n",
        "#Calling for the optimization of the model\n",
        "model.optimize()\n",
        "\n",
        "# Printing out the Optimal solutiom\n",
        "\n",
        "# If the optimization process produces an optimal solution:\n",
        "# Print the objective function value and the decision variable values at this optimal solution.\n",
        "if model.status == GRB.OPTIMAL:\n",
        "      # Get the optimal value of the variables\n",
        "      optimal_z = model.ObjVal\n",
        "\n",
        "      print(f\"Optimal solution found\")\n",
        "      print(f\"x_A = {x_A.X}\")\n",
        "      print(f\"x_B = {x_B.X}\")\n",
        "\n",
        "      print(f\"Optimal value of z : {optimal_z}\")\n",
        "\n",
        "      # Print constraint values at the optimal solution\n",
        "      # At this optimal solution, print the constraint values (LHS) and the respective constraint’s limit (RHS).\n",
        "      #This will indicate if each constraint is active at the optimal solution.\n",
        "      for constr in [Constr_1, Constr_2]:\n",
        "        #constr_value = constr.Pi # Shadow price/dual value\n",
        "        lhs_value = model.getRow(constr).getValue()  # LHS value\n",
        "        rhs_value = constr.RHS  # RHS value\n",
        "        print(f\"{constr.ConstrName}: LHS = {lhs_value}, RHS = {rhs_value})\")\n",
        "else:\n",
        "    # Print this message if an optimal solution was not found\n",
        "    print(\"Model was not solved to optimality.\")"
      ]
    },
    {
      "cell_type": "markdown",
      "id": "4c794b73-0e50-4e11-85c8-5a0c43517913",
      "metadata": {
        "id": "4c794b73-0e50-4e11-85c8-5a0c43517913"
      },
      "source": [
        "### 1-5 Activity: Scenario Analysis - Changing the constraint limits"
      ]
    },
    {
      "cell_type": "markdown",
      "id": "a50c6cd4-35ab-4dc8-8832-9da9bd0b2232",
      "metadata": {
        "id": "a50c6cd4-35ab-4dc8-8832-9da9bd0b2232"
      },
      "source": [
        "What happens  when the constraint limits are changed?\n",
        "\n",
        "Try the following changes to the constraint limits?\n",
        "\n",
        "| | | |  |  |\n",
        "| --- | --- | --- | --- | --- |\n",
        "| **Contraint 1 Limit** | 20 | 50 | 80 | 100 |\n",
        "| **Contraint 2 Limit** | 10 | 30 | 60 | 80 |\n",
        "\n",
        "**ToDo:**\n",
        "\n",
        "- Tweak the code below (which is a copy of the original code above) to change the constraint limits.\n",
        "- What do you observe about the optimal results as these limits are changed?\n"
      ]
    },
    {
      "cell_type": "code",
      "execution_count": null,
      "id": "f60308ac-b6e1-40f3-9d0a-b73dd799f199",
      "metadata": {
        "id": "f60308ac-b6e1-40f3-9d0a-b73dd799f199"
      },
      "outputs": [],
      "source": [
        "# Formulating the problem with the model, decision variables, objective function\n",
        "# and constraints. Includes the call to optimize the objective function.\n",
        "# All data entered in the code.\n",
        "\n",
        "\n",
        "model = gp.Model(\"myBIP\") # Creating and naming the module\n",
        "\n",
        "# Defining the decision variables and their lower and upper boundaries\n",
        "x_A = model.addVar(lb=0.0, ub=15.0, vtype=GRB.INTEGER, name=\"x\")\n",
        "x_B = model.addVar(lb=0.0, ub=15.0, vtype=GRB.INTEGER, name=\"y\")\n",
        "\n",
        "#Defining the objective function\n",
        "Profit = 10*x_A + 15*x_B\n",
        "model.setObjective(Profit, GRB.MAXIMIZE)\n",
        "\n",
        "#Defining the constraints and their limits\n",
        "Constraint_1 = 2*x_A + 4*x_B\n",
        "Constraint_2 = 2*x_A + x_B\n",
        "Bound_1 = 40\n",
        "Bound_2 = 20\n",
        "\n",
        "#Adding the constraints to the model\n",
        "# Labor Constraint\n",
        "Constr_1 = model.addConstr((Constraint_1<= Bound_1), name=\"Constraint1\")\n",
        "\n",
        "# Raw Material Constraint\n",
        "Constr_2 = model.addConstr((Constraint_2<= Bound_2), name=\"Constraint2\")\n",
        "\n",
        "# Non-Negativity Constraints\n",
        "# Th inclusion of lower bounds is redundant given that we already set lower bounds in the variable definition\n",
        "model.addConstr((x_A >= 0), name=\"Constraint3\")\n",
        "model.addConstr((x_B >= 0), name=\"Constraint4\")\n",
        "\n",
        "#Calling for the optimization of the model\n",
        "model.optimize()\n",
        "\n",
        "# Printing out the Optimal solutiom\n",
        "\n",
        "# If the optimization process produces an optimal solution:\n",
        "# Print the objective function value and the decision variable values at this optimal solution.\n",
        "if model.status == GRB.OPTIMAL:\n",
        "      # Get the optimal value of the variables\n",
        "      optimal_z = model.ObjVal\n",
        "\n",
        "      print(f\"Optimal solution found\")\n",
        "      print(f\"x_A = {x_A.X}\")\n",
        "      print(f\"x_B = {x_B.X}\")\n",
        "\n",
        "      print(f\"Optimal value of z : {optimal_z}\")\n",
        "\n",
        "      # Print constraint values at the optimal solution\n",
        "      # At this optimal solution, print the constraint values (LHS) and the respective constraint’s limit (RHS).\n",
        "      #This will indicate if each constraint is active at the optimal solution.\n",
        "      for constr in [Constr_1, Constr_2]:\n",
        "        #constr_value = constr.Pi # Shadow price/dual value\n",
        "        lhs_value = model.getRow(constr).getValue()  # LHS value\n",
        "        rhs_value = constr.RHS  # RHS value\n",
        "        print(f\"{constr.ConstrName}: LHS = {lhs_value}, RHS = {rhs_value})\")\n",
        "else:\n",
        "    # Print this message if an optimal solution was not found\n",
        "    print(\"Model was not solved to optimality.\")"
      ]
    },
    {
      "cell_type": "markdown",
      "id": "2a2407de-4a4d-45bc-bc6a-200984c44b24",
      "metadata": {
        "id": "2a2407de-4a4d-45bc-bc6a-200984c44b24"
      },
      "source": [
        "### (Optional) 1-6 Activity: Double sided constraints"
      ]
    },
    {
      "cell_type": "markdown",
      "id": "c6248ec1-8fc0-4a0f-9c71-717a172c20ae",
      "metadata": {
        "id": "c6248ec1-8fc0-4a0f-9c71-717a172c20ae"
      },
      "source": [
        "How would you modify the code to handle double sides constraints, as seen below?\n",
        "\n",
        "- $40 \\leq 2x_A + 4x_B \\leq 80$\n",
        "- $30 \\leq 2x_A + 1x_B \\leq 60$"
      ]
    },
    {
      "cell_type": "code",
      "execution_count": null,
      "id": "237d3e62-892b-4935-b517-74fa3968ae0d",
      "metadata": {
        "id": "237d3e62-892b-4935-b517-74fa3968ae0d"
      },
      "outputs": [],
      "source": [
        "# Formulating the problem with the model, decision variables, objective function\n",
        "# and constraints. Includes the call to optimize the objective function.\n",
        "# All data entered in the code.\n",
        "\n",
        "\n",
        "model = gp.Model(\"myBIP\") # Creating and naming the module\n",
        "\n",
        "# Defining the decision variables and their lower and upper boundaries\n",
        "x_A = model.addVar(lb=0.0, ub=15.0, vtype=GRB.INTEGER, name=\"x\")\n",
        "x_B = model.addVar(lb=0.0, ub=15.0, vtype=GRB.INTEGER, name=\"y\")\n",
        "\n",
        "#Defining the objective function\n",
        "Profit = 10*x_A + 15*x_B\n",
        "model.setObjective(Profit, GRB.MAXIMIZE)\n",
        "\n",
        "#Defining the constraints and their limits\n",
        "Constraint_1 = 2*x_A + 4*x_B\n",
        "Constraint_2 = 2*x_A + x_B\n",
        "Bound_1 = 40\n",
        "Bound_2 = 20\n",
        "\n",
        "#Adding the constraints to the model\n",
        "# Labor Constraint\n",
        "Constr_1 = model.addConstr((Constraint_1<= Bound_1), name=\"Constraint1\")\n",
        "\n",
        "# Raw Material Constraint\n",
        "Constr_2 = model.addConstr((Constraint_2<= Bound_2), name=\"Constraint2\")\n",
        "\n",
        "# Non-Negativity Constraints\n",
        "# Th inclusion of lower bounds is redundant given that we already set lower bounds in the variable definition\n",
        "model.addConstr((x_A >= 0), name=\"Constraint3\")\n",
        "model.addConstr((x_B >= 0), name=\"Constraint4\")\n",
        "\n",
        "#Calling for the optimization of the model\n",
        "model.optimize()\n",
        "\n",
        "# Printing out the Optimal solutiom\n",
        "\n",
        "# If the optimization process produces an optimal solution:\n",
        "# Print the objective function value and the decision variable values at this optimal solution.\n",
        "if model.status == GRB.OPTIMAL:\n",
        "      # Get the optimal value of the variables\n",
        "      optimal_z = model.ObjVal\n",
        "\n",
        "      print(f\"Optimal solution found\")\n",
        "      print(f\"x_A = {x_A.X}\")\n",
        "      print(f\"x_B = {x_B.X}\")\n",
        "\n",
        "      print(f\"Optimal value of z : {optimal_z}\")\n",
        "\n",
        "      # Print constraint values at the optimal solution\n",
        "      # At this optimal solution, print the constraint values (LHS) and the respective constraint’s limit (RHS).\n",
        "      #This will indicate if each constraint is active at the optimal solution.\n",
        "      for constr in [Constr_1, Constr_2]:\n",
        "        #constr_value = constr.Pi # Shadow price/dual value\n",
        "        lhs_value = model.getRow(constr).getValue()  # LHS value\n",
        "        rhs_value = constr.RHS  # RHS value\n",
        "        print(f\"{constr.ConstrName}: LHS = {lhs_value}, RHS = {rhs_value})\")\n",
        "else:\n",
        "    # Print this message if an optimal solution was not found\n",
        "    print(\"Model was not solved to optimality.\")"
      ]
    }
  ],
  "metadata": {
    "kernelspec": {
      "display_name": "Python 3 (ipykernel)",
      "language": "python",
      "name": "python3"
    },
    "language_info": {
      "codemirror_mode": {
        "name": "ipython",
        "version": 3
      },
      "file_extension": ".py",
      "mimetype": "text/x-python",
      "name": "python",
      "nbconvert_exporter": "python",
      "pygments_lexer": "ipython3",
      "version": "3.12.4"
    },
    "colab": {
      "provenance": []
    },
    "widgets": {
      "application/vnd.jupyter.widget-state+json": {
        "6e701700043940d28c9d70665885a372": {
          "model_module": "@jupyter-widgets/controls",
          "model_name": "VBoxModel",
          "model_module_version": "1.5.0",
          "state": {
            "_dom_classes": [
              "widget-interact"
            ],
            "_model_module": "@jupyter-widgets/controls",
            "_model_module_version": "1.5.0",
            "_model_name": "VBoxModel",
            "_view_count": null,
            "_view_module": "@jupyter-widgets/controls",
            "_view_module_version": "1.5.0",
            "_view_name": "VBoxView",
            "box_style": "",
            "children": [
              "IPY_MODEL_0364d0fea1324771af06b8bca897679b",
              "IPY_MODEL_f0a5c7ad69094f1bb32d7dc6d28fbd7f"
            ],
            "layout": "IPY_MODEL_f092e666dd74485ea1e27dfc710a8a7d"
          }
        },
        "0364d0fea1324771af06b8bca897679b": {
          "model_module": "@jupyter-widgets/controls",
          "model_name": "FloatSliderModel",
          "model_module_version": "1.5.0",
          "state": {
            "_dom_classes": [],
            "_model_module": "@jupyter-widgets/controls",
            "_model_module_version": "1.5.0",
            "_model_name": "FloatSliderModel",
            "_view_count": null,
            "_view_module": "@jupyter-widgets/controls",
            "_view_module_version": "1.5.0",
            "_view_name": "FloatSliderView",
            "continuous_update": true,
            "description": "Profit:",
            "description_tooltip": null,
            "disabled": false,
            "layout": "IPY_MODEL_ebba1904ac1640a18e630fa20e028496",
            "max": 200,
            "min": 0,
            "orientation": "horizontal",
            "readout": true,
            "readout_format": ".2f",
            "step": 5,
            "style": "IPY_MODEL_c420fe9892134f47b0a8c80082f3890e",
            "value": 110
          }
        },
        "f0a5c7ad69094f1bb32d7dc6d28fbd7f": {
          "model_module": "@jupyter-widgets/output",
          "model_name": "OutputModel",
          "model_module_version": "1.0.0",
          "state": {
            "_dom_classes": [],
            "_model_module": "@jupyter-widgets/output",
            "_model_module_version": "1.0.0",
            "_model_name": "OutputModel",
            "_view_count": null,
            "_view_module": "@jupyter-widgets/output",
            "_view_module_version": "1.0.0",
            "_view_name": "OutputView",
            "layout": "IPY_MODEL_2e1a94afca944770bbf7b539747f53bd",
            "msg_id": "",
            "outputs": [
              {
                "output_type": "display_data",
                "data": {
                  "text/plain": "<Figure size 1000x600 with 1 Axes>",
                  "image/png": "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\n"
                },
                "metadata": {}
              }
            ]
          }
        },
        "f092e666dd74485ea1e27dfc710a8a7d": {
          "model_module": "@jupyter-widgets/base",
          "model_name": "LayoutModel",
          "model_module_version": "1.2.0",
          "state": {
            "_model_module": "@jupyter-widgets/base",
            "_model_module_version": "1.2.0",
            "_model_name": "LayoutModel",
            "_view_count": null,
            "_view_module": "@jupyter-widgets/base",
            "_view_module_version": "1.2.0",
            "_view_name": "LayoutView",
            "align_content": null,
            "align_items": null,
            "align_self": null,
            "border": null,
            "bottom": null,
            "display": null,
            "flex": null,
            "flex_flow": null,
            "grid_area": null,
            "grid_auto_columns": null,
            "grid_auto_flow": null,
            "grid_auto_rows": null,
            "grid_column": null,
            "grid_gap": null,
            "grid_row": null,
            "grid_template_areas": null,
            "grid_template_columns": null,
            "grid_template_rows": null,
            "height": null,
            "justify_content": null,
            "justify_items": null,
            "left": null,
            "margin": null,
            "max_height": null,
            "max_width": null,
            "min_height": null,
            "min_width": null,
            "object_fit": null,
            "object_position": null,
            "order": null,
            "overflow": null,
            "overflow_x": null,
            "overflow_y": null,
            "padding": null,
            "right": null,
            "top": null,
            "visibility": null,
            "width": null
          }
        },
        "ebba1904ac1640a18e630fa20e028496": {
          "model_module": "@jupyter-widgets/base",
          "model_name": "LayoutModel",
          "model_module_version": "1.2.0",
          "state": {
            "_model_module": "@jupyter-widgets/base",
            "_model_module_version": "1.2.0",
            "_model_name": "LayoutModel",
            "_view_count": null,
            "_view_module": "@jupyter-widgets/base",
            "_view_module_version": "1.2.0",
            "_view_name": "LayoutView",
            "align_content": null,
            "align_items": null,
            "align_self": null,
            "border": null,
            "bottom": null,
            "display": null,
            "flex": null,
            "flex_flow": null,
            "grid_area": null,
            "grid_auto_columns": null,
            "grid_auto_flow": null,
            "grid_auto_rows": null,
            "grid_column": null,
            "grid_gap": null,
            "grid_row": null,
            "grid_template_areas": null,
            "grid_template_columns": null,
            "grid_template_rows": null,
            "height": null,
            "justify_content": null,
            "justify_items": null,
            "left": null,
            "margin": null,
            "max_height": null,
            "max_width": null,
            "min_height": null,
            "min_width": null,
            "object_fit": null,
            "object_position": null,
            "order": null,
            "overflow": null,
            "overflow_x": null,
            "overflow_y": null,
            "padding": null,
            "right": null,
            "top": null,
            "visibility": null,
            "width": null
          }
        },
        "c420fe9892134f47b0a8c80082f3890e": {
          "model_module": "@jupyter-widgets/controls",
          "model_name": "SliderStyleModel",
          "model_module_version": "1.5.0",
          "state": {
            "_model_module": "@jupyter-widgets/controls",
            "_model_module_version": "1.5.0",
            "_model_name": "SliderStyleModel",
            "_view_count": null,
            "_view_module": "@jupyter-widgets/base",
            "_view_module_version": "1.2.0",
            "_view_name": "StyleView",
            "description_width": "",
            "handle_color": null
          }
        },
        "2e1a94afca944770bbf7b539747f53bd": {
          "model_module": "@jupyter-widgets/base",
          "model_name": "LayoutModel",
          "model_module_version": "1.2.0",
          "state": {
            "_model_module": "@jupyter-widgets/base",
            "_model_module_version": "1.2.0",
            "_model_name": "LayoutModel",
            "_view_count": null,
            "_view_module": "@jupyter-widgets/base",
            "_view_module_version": "1.2.0",
            "_view_name": "LayoutView",
            "align_content": null,
            "align_items": null,
            "align_self": null,
            "border": null,
            "bottom": null,
            "display": null,
            "flex": null,
            "flex_flow": null,
            "grid_area": null,
            "grid_auto_columns": null,
            "grid_auto_flow": null,
            "grid_auto_rows": null,
            "grid_column": null,
            "grid_gap": null,
            "grid_row": null,
            "grid_template_areas": null,
            "grid_template_columns": null,
            "grid_template_rows": null,
            "height": null,
            "justify_content": null,
            "justify_items": null,
            "left": null,
            "margin": null,
            "max_height": null,
            "max_width": null,
            "min_height": null,
            "min_width": null,
            "object_fit": null,
            "object_position": null,
            "order": null,
            "overflow": null,
            "overflow_x": null,
            "overflow_y": null,
            "padding": null,
            "right": null,
            "top": null,
            "visibility": null,
            "width": null
          }
        }
      }
    }
  },
  "nbformat": 4,
  "nbformat_minor": 5
}