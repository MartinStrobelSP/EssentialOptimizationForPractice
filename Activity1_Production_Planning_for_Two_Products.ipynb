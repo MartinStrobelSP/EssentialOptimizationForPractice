{
  "cells": [
    {
      "cell_type": "markdown",
      "source": [
        "[![Open In Colab](https://colab.research.google.com/assets/colab-badge.svg)](https://colab.research.google.com/github/MartinStrobelSP/EssentialOptimizationForPractice/blob/main/Activity1_Production_Planning_for_Two_Products.ipynb)"
      ],
      "metadata": {
        "id": "JUP6wrWMXwUv"
      },
      "id": "JUP6wrWMXwUv"
    },
    {
      "cell_type": "markdown",
      "id": "3cc5818d-4b51-4a81-9714-708e0b4504a7",
      "metadata": {
        "id": "3cc5818d-4b51-4a81-9714-708e0b4504a7"
      },
      "source": [
        "# Application Problem 1 - Production Planning for Two Products"
      ]
    },
    {
      "cell_type": "markdown",
      "id": "e9d90dcd-ceb9-4a6b-937a-febd58d183e1",
      "metadata": {
        "id": "e9d90dcd-ceb9-4a6b-937a-febd58d183e1"
      },
      "source": [
        "### Overview"
      ]
    },
    {
      "cell_type": "markdown",
      "id": "1e5f1918-7d90-4708-a7db-7a8ceb2014b8",
      "metadata": {
        "jp-MarkdownHeadingCollapsed": true,
        "id": "1e5f1918-7d90-4708-a7db-7a8ceb2014b8"
      },
      "source": [
        "\n",
        "A small manufacturing company produces two types of products: Product A and Product B. The company has limited resources available, including 40 hours of labor and 20 pounds of raw material per week.\n",
        "\n",
        "- **Product A:** requires 2 hours of labor and 1 pound of raw material per unit.\n",
        "- **Product B:** requires 4 hours of labor and 2 pounds of raw material per unit.\n",
        "\n",
        "The company makes a profit of \\\\$10 per unit of Product A and \\\\$15 per unit of Product B.\n",
        "\n",
        "The company wants to determine the optimal production plan (number of units of Product A and Product B to produce) that maximizes weekly profit.\n",
        "<div align=\"center\">\n",
        "   <img src=\"https://github.com/MartinStrobelSP/EssentialOptimizationForPractice/blob/main/images/activity1_factory.png?raw=1\" width=\"300\">\n",
        "</div>\n",
        "    \n",
        "\n",
        "#### Decision Variables:\n",
        "\n",
        "- $x_A$: Number of units of Product A to produce ($ 0 \\leq x_A \\leq 15$)\n",
        "- $x_B$: Number of units of Product B to produce ($ 0 \\leq x_B \\leq 15$)\n",
        "\n",
        "#### Parameters\n",
        "\n",
        "- $p_A$: Profit per unit of Product A (\\$10)\n",
        "- $p_B$: Profit per unit of Product B (\\$15)\n",
        "- $L$: Total available labour hours (40 hours)\n",
        "- $R$: Total available raw material (20 pounds)\n",
        "- $l_A$: Labour hours required per unit of Product A (2 hours)\n",
        "- $l_B$: Labour hours required per unit of Product B (4 hours)\n",
        "- $r_A$: Raw material required per unit of Prdouct A (2 pounds)\n",
        "- $r_B:$ Raw material required per unit of Product B (1 pound)   \n",
        "\n",
        "\n"
      ]
    },
    {
      "cell_type": "markdown",
      "id": "0f0fc05a-0f39-49cd-a9d7-40908f847ca0",
      "metadata": {
        "id": "0f0fc05a-0f39-49cd-a9d7-40908f847ca0"
      },
      "source": [
        "### 1-1 Activity: Formulate the Problem"
      ]
    },
    {
      "cell_type": "markdown",
      "id": "e40d6a10-6d05-455d-b958-ec3755f1c0e8",
      "metadata": {
        "id": "e40d6a10-6d05-455d-b958-ec3755f1c0e8"
      },
      "source": [
        "**ToDo:**\n",
        "\n",
        "Do the following tasks:\n",
        "- **Define** the decision variables and any constraint on them\n",
        "- **Formulate** the objective function\n",
        "- **Define** the constraints and fromulate them\n",
        "\n",
        "You can drag an image of your formulation in the cell below and execute the cell to save your formulation within this notebook."
      ]
    },
    {
      "cell_type": "markdown",
      "id": "f5cb7993-8353-4d9f-bd9f-faad86f42ff6",
      "metadata": {
        "id": "f5cb7993-8353-4d9f-bd9f-faad86f42ff6"
      },
      "source": []
    },
    {
      "cell_type": "markdown",
      "id": "d3697d6c-fe1b-45cf-8eb3-1ca517dcff6c",
      "metadata": {
        "id": "d3697d6c-fe1b-45cf-8eb3-1ca517dcff6c"
      },
      "source": [
        "### 1-2 Anaylzing the Problem"
      ]
    },
    {
      "cell_type": "markdown",
      "id": "bea91609-bf6d-4fea-904b-802b3fff9d7f",
      "metadata": {
        "id": "bea91609-bf6d-4fea-904b-802b3fff9d7f"
      },
      "source": [
        "- This problem has a guaranteed set of feasible solutions within the constraints.\n",
        "- The decision variables,  $ x_A $ and $ x_B $, must be non-negative integers.\n",
        "- However, for a simplified initial analysis, we can treat them as continuous variables.\n",
        "- This problem provides a practical example of how linear programming can be applied in a manufacturing setting to optimize production decisions and maximize profiits.\n"
      ]
    },
    {
      "cell_type": "markdown",
      "id": "44fa36e5-146a-41fc-8cd3-a33c912a7274",
      "metadata": {
        "id": "44fa36e5-146a-41fc-8cd3-a33c912a7274"
      },
      "source": [
        "#### Graphical Representation and Algorithm\n",
        "\n",
        "This problem can be easily visualized and solved graphically.\n",
        "\n",
        "**Plot the constraints**\n",
        "\n",
        "- Each constraint (labor, raw material, non-negativity) will be represented by a line on a graph with $x_A$ and $x_B$ as the axes.\n",
        "- These lines define the feasible region where all constraints are satisfied.\n",
        "\n",
        "**Plot the objective function**\n",
        "\n",
        "- The objective function (profit) can be represented by a line that moves parallel to itself as the profit value changes.\n",
        "\n",
        "**Find the optimal solution**\n",
        "\n",
        "- The optimal solution will lie at one of the corner points (vertices) of the feasible region.\n",
        "- The algorithm (e.g., the Simplex Method) systematically evaluates these corner points to find the one that maximizes the objective function (profi).\n",
        "- Imagine the number of vertices to evaluate when a problem has 20 decision variables and 40 constraints, for example."
      ]
    },
    {
      "cell_type": "code",
      "source": [
        "#@title Interactive LP Plot { display-mode: \"form\" }\n",
        "\n",
        "import numpy as np\n",
        "import matplotlib.pyplot as plt\n",
        "from ipywidgets import interact\n",
        "import ipywidgets as widgets\n",
        "\n",
        "# Define constraints\n",
        "def constraint1(x):\n",
        "    return (40 - 2*x)/4  # 2xA + 4xB ≤ 40 → xB ≤ (40 - 2xA)/4\n",
        "\n",
        "def constraint2(x):\n",
        "    return (20 - 2*x)/1  # 2xA + xB ≤ 20 → xB ≤ (20 - 2xA)\n",
        "\n",
        "# Objective function line: Z = 10xA + 15xB → xB = (Z - 10xA)/15\n",
        "def objective(x, z):\n",
        "    return (z - 10*x)/15\n",
        "\n",
        "# Setup for plot\n",
        "x_vals = np.linspace(0, 25, 300)\n",
        "\n",
        "# Create interactive plot\n",
        "@interact(z=widgets.FloatSlider(value=0, min=0, max=200, step=5, description='Profit:'))\n",
        "def plot_feasible_region(z):\n",
        "    plt.figure(figsize=(10, 6))\n",
        "\n",
        "    # Constraint lines\n",
        "    plt.plot(x_vals, constraint1(x_vals), 'r--', label=r'Labor: $2x_A + 4x_B \\leq 40$')\n",
        "    plt.plot(x_vals, constraint2(x_vals), 'b--', label=r'Material: $2x_A + x_B \\leq 20$')\n",
        "\n",
        "    # Axes limits\n",
        "    plt.xlim(0, 20)\n",
        "    plt.ylim(0, 20)\n",
        "\n",
        "    # Shading the feasible region\n",
        "    x = np.linspace(0, 20, 400)\n",
        "    y1 = constraint1(x)\n",
        "    y2 = constraint2(x)\n",
        "    y3 = np.full_like(x, 0)\n",
        "    plt.fill_between(x, np.maximum(y3, np.minimum(y1, y2)), 0,\n",
        "                     where=(y1 >= y3) & (y2 >= y3), color='gray', alpha=0.3, label='Feasible Region')\n",
        "\n",
        "    # Objective line\n",
        "    y_obj = objective(x_vals, z)\n",
        "    plt.plot(x_vals, y_obj, 'k-', linewidth=2, label=r'$Profit = 10x_A + 15x_B$')\n",
        "\n",
        "    # Axes labels\n",
        "    plt.xlabel(r'$x_A$')\n",
        "    plt.ylabel(r'$x_B$')\n",
        "    plt.title('Visual Linear Program')\n",
        "    plt.grid(True)\n",
        "    plt.axhline(0, color='black')\n",
        "    plt.axvline(0, color='black')\n",
        "    plt.legend()\n",
        "    plt.show()\n"
      ],
      "metadata": {
        "id": "WXxELbLmgypg",
        "outputId": "255e4c55-ff7e-4684-f5e1-339e82ede416",
        "colab": {
          "base_uri": "https://localhost:8080/",
          "height": 597,
          "referenced_widgets": [
            "6b1a493d2ecf4b4f88ac6c298a49a096",
            "3e98c72f252942c2aa3e721d8ca58914",
            "35684b0198fb47faa73ca63a6e8b9b5f",
            "7354878f92d94f099f929b13daabce29",
            "336789e9381541ffb282987a4a52d81b",
            "ad5b2f54945b417e81a65420fa83574d",
            "2ab87947539245e693c66fa90b10252a"
          ]
        }
      },
      "id": "WXxELbLmgypg",
      "execution_count": 4,
      "outputs": [
        {
          "output_type": "display_data",
          "data": {
            "text/plain": [
              "interactive(children=(FloatSlider(value=0.0, description='Profit:', max=200.0, step=5.0), Output()), _dom_clas…"
            ],
            "application/vnd.jupyter.widget-view+json": {
              "version_major": 2,
              "version_minor": 0,
              "model_id": "6b1a493d2ecf4b4f88ac6c298a49a096"
            }
          },
          "metadata": {}
        }
      ]
    },
    {
      "cell_type": "markdown",
      "id": "b4425c81-21da-4025-8ae8-66d87975e188",
      "metadata": {
        "id": "b4425c81-21da-4025-8ae8-66d87975e188"
      },
      "source": [
        "<div align=\"center\">\n",
        "   <img src=\"https://github.com/MartinStrobelSP/EssentialOptimizationForPractice/blob/main/images/activity1_visualization.png?raw=1\" width=\"900\">\n",
        "</div>"
      ]
    },
    {
      "cell_type": "markdown",
      "id": "85969d31-5913-4b63-9a69-bf34f9690353",
      "metadata": {
        "id": "85969d31-5913-4b63-9a69-bf34f9690353"
      },
      "source": [
        "### 1-3 Code Reference"
      ]
    },
    {
      "cell_type": "code",
      "source": [
        "!pip install gurobipy"
      ],
      "metadata": {
        "id": "Azdv6bqBbNJl"
      },
      "id": "Azdv6bqBbNJl",
      "execution_count": null,
      "outputs": []
    },
    {
      "cell_type": "code",
      "execution_count": null,
      "id": "722e3af0-b881-4b8d-85ae-36877204b738",
      "metadata": {
        "id": "722e3af0-b881-4b8d-85ae-36877204b738"
      },
      "outputs": [],
      "source": [
        "import gurobipy as gp\n",
        "from gurobipy import GRB"
      ]
    },
    {
      "cell_type": "code",
      "execution_count": null,
      "id": "15461d9b-7121-4a4b-a5fb-17ae9d837be2",
      "metadata": {
        "id": "15461d9b-7121-4a4b-a5fb-17ae9d837be2"
      },
      "outputs": [],
      "source": [
        "# Formulating the problem with the model, decision variables, objective function\n",
        "# and constraints. Includes the call to optimize the objective function.\n",
        "# All data entered in the code.\n",
        "\n",
        "\n",
        "model = gp.Model(\"myBIP\") # Creating and naming the module\n",
        "\n",
        "# Defining the decision variables and their lower and upper boundaries\n",
        "x_A = model.addVar(lb=0.0, ub=15.0, vtype=GRB.INTEGER, name=\"x\")\n",
        "x_B = model.addVar(lb=0.0, ub=15.0, vtype=GRB.INTEGER, name=\"y\")\n",
        "\n",
        "#Defining the objective function\n",
        "Profit = 10*x_A + 15*x_B\n",
        "model.setObjective(Profit, GRB.MAXIMIZE)\n",
        "\n",
        "#Defining the constraints and their limits\n",
        "Constraint_1 = 2*x_A + 4*x_B\n",
        "Constraint_2 = 2*x_A + x_B\n",
        "Bound_1 = 40\n",
        "Bound_2 = 20\n",
        "\n",
        "#Adding the constraints to the model\n",
        "# Labor Constraint\n",
        "Constr_1 = model.addConstr((Constraint_1<= Bound_1), name=\"Constraint1\")\n",
        "\n",
        "# Raw Material Constraint\n",
        "Constr_2 = model.addConstr((Constraint_2<= Bound_2), name=\"Constraint2\")\n",
        "\n",
        "# Non-Negativity Constraints\n",
        "# Th inclusion of lower bounds is redundant given that we already set lower bounds in the variable definition\n",
        "model.addConstr((x_A >= 0), name=\"Constraint3\")\n",
        "model.addConstr((x_B >= 0), name=\"Constraint4\")\n",
        "\n",
        "#Calling for the optimization of the model\n",
        "model.optimize()\n",
        "\n",
        "# Printing out the Optimal solutiom\n",
        "\n",
        "# If the optimization process produces an optimal solution:\n",
        "# Print the objective function value and the decision variable values at this optimal solution.\n",
        "if model.status == GRB.OPTIMAL:\n",
        "      # Get the optimal value of the variables\n",
        "      optimal_z = model.ObjVal\n",
        "\n",
        "      print(f\"Optimal solution found\")\n",
        "      print(f\"x_A = {x_A.X}\")\n",
        "      print(f\"x_B = {x_B.X}\")\n",
        "\n",
        "      print(f\"Optimal value of z : {optimal_z}\")\n",
        "\n",
        "      # Print constraint values at the optimal solution\n",
        "      # At this optimal solution, print the constraint values (LHS) and the respective constraint’s limit (RHS).\n",
        "      #This will indicate if each constraint is active at the optimal solution.\n",
        "      for constr in [Constr_1, Constr_2]:\n",
        "        #constr_value = constr.Pi # Shadow price/dual value\n",
        "        lhs_value = model.getRow(constr).getValue()  # LHS value\n",
        "        rhs_value = constr.RHS  # RHS value\n",
        "        print(f\"{constr.ConstrName}: LHS = {lhs_value}, RHS = {rhs_value})\")\n",
        "else:\n",
        "    # Print this message if an optimal solution was not found\n",
        "    print(\"Model was not solved to optimality.\")"
      ]
    },
    {
      "cell_type": "markdown",
      "id": "d37854b8-1836-4a71-9a9e-78ee42694fa7",
      "metadata": {
        "id": "d37854b8-1836-4a71-9a9e-78ee42694fa7"
      },
      "source": [
        "### 1-4 Activity: Scenario Analysis - Changing the decision variable bounds"
      ]
    },
    {
      "cell_type": "markdown",
      "id": "0894b3da-0c8d-452c-8475-bd72a57891c7",
      "metadata": {
        "id": "0894b3da-0c8d-452c-8475-bd72a57891c7"
      },
      "source": [
        "In this section, we explore the optimal solution"
      ]
    },
    {
      "cell_type": "markdown",
      "id": "dd4fdfee-c097-4beb-ba31-4e9ee942d70e",
      "metadata": {
        "id": "dd4fdfee-c097-4beb-ba31-4e9ee942d70e"
      },
      "source": [
        "\n",
        "\n",
        "What happens what happens when the upper bounds of the decision variables are changed?\n",
        "\n",
        "Try the following changes to the upper bounds of the decsion variables:\n",
        "\n",
        "| | | |  |  |\n",
        "| --- | --- | --- | --- | --- |\n",
        "| $x_A$ | 5 | 7 | 9 | 12 |\n",
        "| $x_B$ | 5 | 7 | 9 | 12 |\n",
        "\n",
        "**ToDo:**\n",
        "\n",
        "- Tweak the code below (which is a copy of the code above) to change the upperbounds.\n",
        "- How are the optimal results changing?\n",
        "- What can you say about the outcomes of this exploration?\n",
        "\n"
      ]
    },
    {
      "cell_type": "code",
      "execution_count": null,
      "id": "b69c053a-432a-4ca8-9b5b-53115e4db6d0",
      "metadata": {
        "id": "b69c053a-432a-4ca8-9b5b-53115e4db6d0"
      },
      "outputs": [],
      "source": [
        "# Formulating the problem with the model, decision variables, objective function\n",
        "# and constraints. Includes the call to optimize the objective function.\n",
        "# All data entered in the code.\n",
        "\n",
        "\n",
        "model = gp.Model(\"myBIP\") # Creating and naming the module\n",
        "\n",
        "# Defining the decision variables and their lower and upper boundaries\n",
        "x_A = model.addVar(lb=0.0, ub=15.0, vtype=GRB.INTEGER, name=\"x\")\n",
        "x_B = model.addVar(lb=0.0, ub=15.0, vtype=GRB.INTEGER, name=\"y\")\n",
        "\n",
        "#Defining the objective function\n",
        "Profit = 10*x_A + 15*x_B\n",
        "model.setObjective(Profit, GRB.MAXIMIZE)\n",
        "\n",
        "#Defining the constraints and their limits\n",
        "Constraint_1 = 2*x_A + 4*x_B\n",
        "Constraint_2 = 2*x_A + x_B\n",
        "Bound_1 = 40\n",
        "Bound_2 = 20\n",
        "\n",
        "#Adding the constraints to the model\n",
        "# Labor Constraint\n",
        "Constr_1 = model.addConstr((Constraint_1<= Bound_1), name=\"Constraint1\")\n",
        "\n",
        "# Raw Material Constraint\n",
        "Constr_2 = model.addConstr((Constraint_2<= Bound_2), name=\"Constraint2\")\n",
        "\n",
        "# Non-Negativity Constraints\n",
        "# Th inclusion of lower bounds is redundant given that we already set lower bounds in the variable definition\n",
        "model.addConstr((x_A >= 0), name=\"Constraint3\")\n",
        "model.addConstr((x_B >= 0), name=\"Constraint4\")\n",
        "\n",
        "#Calling for the optimization of the model\n",
        "model.optimize()\n",
        "\n",
        "# Printing out the Optimal solutiom\n",
        "\n",
        "# If the optimization process produces an optimal solution:\n",
        "# Print the objective function value and the decision variable values at this optimal solution.\n",
        "if model.status == GRB.OPTIMAL:\n",
        "      # Get the optimal value of the variables\n",
        "      optimal_z = model.ObjVal\n",
        "\n",
        "      print(f\"Optimal solution found\")\n",
        "      print(f\"x_A = {x_A.X}\")\n",
        "      print(f\"x_B = {x_B.X}\")\n",
        "\n",
        "      print(f\"Optimal value of z : {optimal_z}\")\n",
        "\n",
        "      # Print constraint values at the optimal solution\n",
        "      # At this optimal solution, print the constraint values (LHS) and the respective constraint’s limit (RHS).\n",
        "      #This will indicate if each constraint is active at the optimal solution.\n",
        "      for constr in [Constr_1, Constr_2]:\n",
        "        #constr_value = constr.Pi # Shadow price/dual value\n",
        "        lhs_value = model.getRow(constr).getValue()  # LHS value\n",
        "        rhs_value = constr.RHS  # RHS value\n",
        "        print(f\"{constr.ConstrName}: LHS = {lhs_value}, RHS = {rhs_value})\")\n",
        "else:\n",
        "    # Print this message if an optimal solution was not found\n",
        "    print(\"Model was not solved to optimality.\")"
      ]
    },
    {
      "cell_type": "markdown",
      "id": "4c794b73-0e50-4e11-85c8-5a0c43517913",
      "metadata": {
        "id": "4c794b73-0e50-4e11-85c8-5a0c43517913"
      },
      "source": [
        "### 1-5 Activity: Scenario Analysis - Changing the constraint limits"
      ]
    },
    {
      "cell_type": "markdown",
      "id": "a50c6cd4-35ab-4dc8-8832-9da9bd0b2232",
      "metadata": {
        "id": "a50c6cd4-35ab-4dc8-8832-9da9bd0b2232"
      },
      "source": [
        "What happens  when the constraint limits are changed?\n",
        "\n",
        "Try the following changes to the constraint limits?\n",
        "\n",
        "| | | |  |  |\n",
        "| --- | --- | --- | --- | --- |\n",
        "| **Contraint 1 Limit** | 20 | 50 | 80 | 100 |\n",
        "| **Contraint 2 Limit** | 10 | 30 | 60 | 80 |\n",
        "\n",
        "**ToDo:**\n",
        "\n",
        "- Tweak the code below (which is a copy of the original code above) to change the constraint limits.\n",
        "- What do you observe about the optimal results as these limits are changed?\n"
      ]
    },
    {
      "cell_type": "code",
      "execution_count": null,
      "id": "f60308ac-b6e1-40f3-9d0a-b73dd799f199",
      "metadata": {
        "id": "f60308ac-b6e1-40f3-9d0a-b73dd799f199"
      },
      "outputs": [],
      "source": [
        "# Formulating the problem with the model, decision variables, objective function\n",
        "# and constraints. Includes the call to optimize the objective function.\n",
        "# All data entered in the code.\n",
        "\n",
        "\n",
        "model = gp.Model(\"myBIP\") # Creating and naming the module\n",
        "\n",
        "# Defining the decision variables and their lower and upper boundaries\n",
        "x_A = model.addVar(lb=0.0, ub=15.0, vtype=GRB.INTEGER, name=\"x\")\n",
        "x_B = model.addVar(lb=0.0, ub=15.0, vtype=GRB.INTEGER, name=\"y\")\n",
        "\n",
        "#Defining the objective function\n",
        "Profit = 10*x_A + 15*x_B\n",
        "model.setObjective(Profit, GRB.MAXIMIZE)\n",
        "\n",
        "#Defining the constraints and their limits\n",
        "Constraint_1 = 2*x_A + 4*x_B\n",
        "Constraint_2 = 2*x_A + x_B\n",
        "Bound_1 = 40\n",
        "Bound_2 = 20\n",
        "\n",
        "#Adding the constraints to the model\n",
        "# Labor Constraint\n",
        "Constr_1 = model.addConstr((Constraint_1<= Bound_1), name=\"Constraint1\")\n",
        "\n",
        "# Raw Material Constraint\n",
        "Constr_2 = model.addConstr((Constraint_2<= Bound_2), name=\"Constraint2\")\n",
        "\n",
        "# Non-Negativity Constraints\n",
        "# Th inclusion of lower bounds is redundant given that we already set lower bounds in the variable definition\n",
        "model.addConstr((x_A >= 0), name=\"Constraint3\")\n",
        "model.addConstr((x_B >= 0), name=\"Constraint4\")\n",
        "\n",
        "#Calling for the optimization of the model\n",
        "model.optimize()\n",
        "\n",
        "# Printing out the Optimal solutiom\n",
        "\n",
        "# If the optimization process produces an optimal solution:\n",
        "# Print the objective function value and the decision variable values at this optimal solution.\n",
        "if model.status == GRB.OPTIMAL:\n",
        "      # Get the optimal value of the variables\n",
        "      optimal_z = model.ObjVal\n",
        "\n",
        "      print(f\"Optimal solution found\")\n",
        "      print(f\"x_A = {x_A.X}\")\n",
        "      print(f\"x_B = {x_B.X}\")\n",
        "\n",
        "      print(f\"Optimal value of z : {optimal_z}\")\n",
        "\n",
        "      # Print constraint values at the optimal solution\n",
        "      # At this optimal solution, print the constraint values (LHS) and the respective constraint’s limit (RHS).\n",
        "      #This will indicate if each constraint is active at the optimal solution.\n",
        "      for constr in [Constr_1, Constr_2]:\n",
        "        #constr_value = constr.Pi # Shadow price/dual value\n",
        "        lhs_value = model.getRow(constr).getValue()  # LHS value\n",
        "        rhs_value = constr.RHS  # RHS value\n",
        "        print(f\"{constr.ConstrName}: LHS = {lhs_value}, RHS = {rhs_value})\")\n",
        "else:\n",
        "    # Print this message if an optimal solution was not found\n",
        "    print(\"Model was not solved to optimality.\")"
      ]
    },
    {
      "cell_type": "markdown",
      "id": "2a2407de-4a4d-45bc-bc6a-200984c44b24",
      "metadata": {
        "id": "2a2407de-4a4d-45bc-bc6a-200984c44b24"
      },
      "source": [
        "### (Optional) 1-6 Activity: Double sided constraints"
      ]
    },
    {
      "cell_type": "markdown",
      "id": "c6248ec1-8fc0-4a0f-9c71-717a172c20ae",
      "metadata": {
        "id": "c6248ec1-8fc0-4a0f-9c71-717a172c20ae"
      },
      "source": [
        "How would you modify the code to handle double sides constraints, as seen below?\n",
        "\n",
        "- $40 \\leq 2x_A + 4x_B \\leq 80$\n",
        "- $30 \\leq 2x_A + 1x_B \\leq 60$"
      ]
    },
    {
      "cell_type": "code",
      "execution_count": null,
      "id": "237d3e62-892b-4935-b517-74fa3968ae0d",
      "metadata": {
        "id": "237d3e62-892b-4935-b517-74fa3968ae0d"
      },
      "outputs": [],
      "source": [
        "# Formulating the problem with the model, decision variables, objective function\n",
        "# and constraints. Includes the call to optimize the objective function.\n",
        "# All data entered in the code.\n",
        "\n",
        "\n",
        "model = gp.Model(\"myBIP\") # Creating and naming the module\n",
        "\n",
        "# Defining the decision variables and their lower and upper boundaries\n",
        "x_A = model.addVar(lb=0.0, ub=15.0, vtype=GRB.INTEGER, name=\"x\")\n",
        "x_B = model.addVar(lb=0.0, ub=15.0, vtype=GRB.INTEGER, name=\"y\")\n",
        "\n",
        "#Defining the objective function\n",
        "Profit = 10*x_A + 15*x_B\n",
        "model.setObjective(Profit, GRB.MAXIMIZE)\n",
        "\n",
        "#Defining the constraints and their limits\n",
        "Constraint_1 = 2*x_A + 4*x_B\n",
        "Constraint_2 = 2*x_A + x_B\n",
        "Bound_1 = 40\n",
        "Bound_2 = 20\n",
        "\n",
        "#Adding the constraints to the model\n",
        "# Labor Constraint\n",
        "Constr_1 = model.addConstr((Constraint_1<= Bound_1), name=\"Constraint1\")\n",
        "\n",
        "# Raw Material Constraint\n",
        "Constr_2 = model.addConstr((Constraint_2<= Bound_2), name=\"Constraint2\")\n",
        "\n",
        "# Non-Negativity Constraints\n",
        "# Th inclusion of lower bounds is redundant given that we already set lower bounds in the variable definition\n",
        "model.addConstr((x_A >= 0), name=\"Constraint3\")\n",
        "model.addConstr((x_B >= 0), name=\"Constraint4\")\n",
        "\n",
        "#Calling for the optimization of the model\n",
        "model.optimize()\n",
        "\n",
        "# Printing out the Optimal solutiom\n",
        "\n",
        "# If the optimization process produces an optimal solution:\n",
        "# Print the objective function value and the decision variable values at this optimal solution.\n",
        "if model.status == GRB.OPTIMAL:\n",
        "      # Get the optimal value of the variables\n",
        "      optimal_z = model.ObjVal\n",
        "\n",
        "      print(f\"Optimal solution found\")\n",
        "      print(f\"x_A = {x_A.X}\")\n",
        "      print(f\"x_B = {x_B.X}\")\n",
        "\n",
        "      print(f\"Optimal value of z : {optimal_z}\")\n",
        "\n",
        "      # Print constraint values at the optimal solution\n",
        "      # At this optimal solution, print the constraint values (LHS) and the respective constraint’s limit (RHS).\n",
        "      #This will indicate if each constraint is active at the optimal solution.\n",
        "      for constr in [Constr_1, Constr_2]:\n",
        "        #constr_value = constr.Pi # Shadow price/dual value\n",
        "        lhs_value = model.getRow(constr).getValue()  # LHS value\n",
        "        rhs_value = constr.RHS  # RHS value\n",
        "        print(f\"{constr.ConstrName}: LHS = {lhs_value}, RHS = {rhs_value})\")\n",
        "else:\n",
        "    # Print this message if an optimal solution was not found\n",
        "    print(\"Model was not solved to optimality.\")"
      ]
    }
  ],
  "metadata": {
    "kernelspec": {
      "display_name": "Python 3 (ipykernel)",
      "language": "python",
      "name": "python3"
    },
    "language_info": {
      "codemirror_mode": {
        "name": "ipython",
        "version": 3
      },
      "file_extension": ".py",
      "mimetype": "text/x-python",
      "name": "python",
      "nbconvert_exporter": "python",
      "pygments_lexer": "ipython3",
      "version": "3.12.4"
    },
    "colab": {
      "provenance": []
    },
    "widgets": {
      "application/vnd.jupyter.widget-state+json": {
        "6b1a493d2ecf4b4f88ac6c298a49a096": {
          "model_module": "@jupyter-widgets/controls",
          "model_name": "VBoxModel",
          "model_module_version": "1.5.0",
          "state": {
            "_dom_classes": [
              "widget-interact"
            ],
            "_model_module": "@jupyter-widgets/controls",
            "_model_module_version": "1.5.0",
            "_model_name": "VBoxModel",
            "_view_count": null,
            "_view_module": "@jupyter-widgets/controls",
            "_view_module_version": "1.5.0",
            "_view_name": "VBoxView",
            "box_style": "",
            "children": [
              "IPY_MODEL_3e98c72f252942c2aa3e721d8ca58914",
              "IPY_MODEL_35684b0198fb47faa73ca63a6e8b9b5f"
            ],
            "layout": "IPY_MODEL_7354878f92d94f099f929b13daabce29"
          }
        },
        "3e98c72f252942c2aa3e721d8ca58914": {
          "model_module": "@jupyter-widgets/controls",
          "model_name": "FloatSliderModel",
          "model_module_version": "1.5.0",
          "state": {
            "_dom_classes": [],
            "_model_module": "@jupyter-widgets/controls",
            "_model_module_version": "1.5.0",
            "_model_name": "FloatSliderModel",
            "_view_count": null,
            "_view_module": "@jupyter-widgets/controls",
            "_view_module_version": "1.5.0",
            "_view_name": "FloatSliderView",
            "continuous_update": true,
            "description": "Profit:",
            "description_tooltip": null,
            "disabled": false,
            "layout": "IPY_MODEL_336789e9381541ffb282987a4a52d81b",
            "max": 200,
            "min": 0,
            "orientation": "horizontal",
            "readout": true,
            "readout_format": ".2f",
            "step": 5,
            "style": "IPY_MODEL_ad5b2f54945b417e81a65420fa83574d",
            "value": 0
          }
        },
        "35684b0198fb47faa73ca63a6e8b9b5f": {
          "model_module": "@jupyter-widgets/output",
          "model_name": "OutputModel",
          "model_module_version": "1.0.0",
          "state": {
            "_dom_classes": [],
            "_model_module": "@jupyter-widgets/output",
            "_model_module_version": "1.0.0",
            "_model_name": "OutputModel",
            "_view_count": null,
            "_view_module": "@jupyter-widgets/output",
            "_view_module_version": "1.0.0",
            "_view_name": "OutputView",
            "layout": "IPY_MODEL_2ab87947539245e693c66fa90b10252a",
            "msg_id": "",
            "outputs": [
              {
                "output_type": "display_data",
                "data": {
                  "text/plain": "<Figure size 1000x600 with 1 Axes>",
                  "image/png": "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\n"
                },
                "metadata": {}
              }
            ]
          }
        },
        "7354878f92d94f099f929b13daabce29": {
          "model_module": "@jupyter-widgets/base",
          "model_name": "LayoutModel",
          "model_module_version": "1.2.0",
          "state": {
            "_model_module": "@jupyter-widgets/base",
            "_model_module_version": "1.2.0",
            "_model_name": "LayoutModel",
            "_view_count": null,
            "_view_module": "@jupyter-widgets/base",
            "_view_module_version": "1.2.0",
            "_view_name": "LayoutView",
            "align_content": null,
            "align_items": null,
            "align_self": null,
            "border": null,
            "bottom": null,
            "display": null,
            "flex": null,
            "flex_flow": null,
            "grid_area": null,
            "grid_auto_columns": null,
            "grid_auto_flow": null,
            "grid_auto_rows": null,
            "grid_column": null,
            "grid_gap": null,
            "grid_row": null,
            "grid_template_areas": null,
            "grid_template_columns": null,
            "grid_template_rows": null,
            "height": null,
            "justify_content": null,
            "justify_items": null,
            "left": null,
            "margin": null,
            "max_height": null,
            "max_width": null,
            "min_height": null,
            "min_width": null,
            "object_fit": null,
            "object_position": null,
            "order": null,
            "overflow": null,
            "overflow_x": null,
            "overflow_y": null,
            "padding": null,
            "right": null,
            "top": null,
            "visibility": null,
            "width": null
          }
        },
        "336789e9381541ffb282987a4a52d81b": {
          "model_module": "@jupyter-widgets/base",
          "model_name": "LayoutModel",
          "model_module_version": "1.2.0",
          "state": {
            "_model_module": "@jupyter-widgets/base",
            "_model_module_version": "1.2.0",
            "_model_name": "LayoutModel",
            "_view_count": null,
            "_view_module": "@jupyter-widgets/base",
            "_view_module_version": "1.2.0",
            "_view_name": "LayoutView",
            "align_content": null,
            "align_items": null,
            "align_self": null,
            "border": null,
            "bottom": null,
            "display": null,
            "flex": null,
            "flex_flow": null,
            "grid_area": null,
            "grid_auto_columns": null,
            "grid_auto_flow": null,
            "grid_auto_rows": null,
            "grid_column": null,
            "grid_gap": null,
            "grid_row": null,
            "grid_template_areas": null,
            "grid_template_columns": null,
            "grid_template_rows": null,
            "height": null,
            "justify_content": null,
            "justify_items": null,
            "left": null,
            "margin": null,
            "max_height": null,
            "max_width": null,
            "min_height": null,
            "min_width": null,
            "object_fit": null,
            "object_position": null,
            "order": null,
            "overflow": null,
            "overflow_x": null,
            "overflow_y": null,
            "padding": null,
            "right": null,
            "top": null,
            "visibility": null,
            "width": null
          }
        },
        "ad5b2f54945b417e81a65420fa83574d": {
          "model_module": "@jupyter-widgets/controls",
          "model_name": "SliderStyleModel",
          "model_module_version": "1.5.0",
          "state": {
            "_model_module": "@jupyter-widgets/controls",
            "_model_module_version": "1.5.0",
            "_model_name": "SliderStyleModel",
            "_view_count": null,
            "_view_module": "@jupyter-widgets/base",
            "_view_module_version": "1.2.0",
            "_view_name": "StyleView",
            "description_width": "",
            "handle_color": null
          }
        },
        "2ab87947539245e693c66fa90b10252a": {
          "model_module": "@jupyter-widgets/base",
          "model_name": "LayoutModel",
          "model_module_version": "1.2.0",
          "state": {
            "_model_module": "@jupyter-widgets/base",
            "_model_module_version": "1.2.0",
            "_model_name": "LayoutModel",
            "_view_count": null,
            "_view_module": "@jupyter-widgets/base",
            "_view_module_version": "1.2.0",
            "_view_name": "LayoutView",
            "align_content": null,
            "align_items": null,
            "align_self": null,
            "border": null,
            "bottom": null,
            "display": null,
            "flex": null,
            "flex_flow": null,
            "grid_area": null,
            "grid_auto_columns": null,
            "grid_auto_flow": null,
            "grid_auto_rows": null,
            "grid_column": null,
            "grid_gap": null,
            "grid_row": null,
            "grid_template_areas": null,
            "grid_template_columns": null,
            "grid_template_rows": null,
            "height": null,
            "justify_content": null,
            "justify_items": null,
            "left": null,
            "margin": null,
            "max_height": null,
            "max_width": null,
            "min_height": null,
            "min_width": null,
            "object_fit": null,
            "object_position": null,
            "order": null,
            "overflow": null,
            "overflow_x": null,
            "overflow_y": null,
            "padding": null,
            "right": null,
            "top": null,
            "visibility": null,
            "width": null
          }
        }
      }
    }
  },
  "nbformat": 4,
  "nbformat_minor": 5
}